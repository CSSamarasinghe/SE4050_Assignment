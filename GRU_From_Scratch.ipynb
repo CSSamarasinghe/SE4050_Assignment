{
  "nbformat": 4,
  "nbformat_minor": 0,
  "metadata": {
    "colab": {
      "provenance": [],
      "gpuType": "T4",
      "authorship_tag": "ABX9TyMxyd/04rkKVmGoTvBey1nI",
      "include_colab_link": true
    },
    "kernelspec": {
      "name": "python3",
      "display_name": "Python 3"
    },
    "language_info": {
      "name": "python"
    },
    "accelerator": "GPU"
  },
  "cells": [
    {
      "cell_type": "markdown",
      "metadata": {
        "id": "view-in-github",
        "colab_type": "text"
      },
      "source": [
        "<a href=\"https://colab.research.google.com/github/CSSamarasinghe/SE4050_Assignment/blob/IT21222740/GRU_From_Scratch.ipynb\" target=\"_parent\"><img src=\"https://colab.research.google.com/assets/colab-badge.svg\" alt=\"Open In Colab\"/></a>"
      ]
    },
    {
      "cell_type": "code",
      "source": [
        "import numpy as np\n",
        "from keras.datasets import imdb\n",
        "from keras.preprocessing import sequence"
      ],
      "metadata": {
        "id": "xrPSHld5zLWu"
      },
      "execution_count": 6,
      "outputs": []
    },
    {
      "cell_type": "code",
      "source": [
        "\n",
        "# Activation Functions and Derivatives\n",
        "def sigmoid(x):\n",
        "    return 1 / (1 + np.exp(-x))\n",
        "\n",
        "def sigmoid_derivative(x):\n",
        "    return sigmoid(x) * (1 - sigmoid(x))\n",
        "\n",
        "def tanh(x):\n",
        "    return np.tanh(x)\n",
        "\n",
        "def tanh_derivative(x):\n",
        "    return 1 - np.tanh(x) ** 2"
      ],
      "metadata": {
        "id": "Xi1UFT_Hy0ta"
      },
      "execution_count": 4,
      "outputs": []
    },
    {
      "cell_type": "code",
      "source": [
        "\n",
        "# Load and Preprocess Data\n",
        "top_words = 5000\n",
        "max_words = 500\n",
        "\n",
        "(X_train, y_train), (X_test, y_test) = imdb.load_data(num_words=top_words)"
      ],
      "metadata": {
        "id": "i5M8E2d8zTWb"
      },
      "execution_count": 7,
      "outputs": []
    },
    {
      "cell_type": "code",
      "source": [
        "# Pad sequences (data preprocessing)\n",
        "X_train = sequence.pad_sequences(X_train, maxlen=max_words)\n",
        "X_test = sequence.pad_sequences(X_test, maxlen=max_words)"
      ],
      "metadata": {
        "id": "lVReaq5rzZkV"
      },
      "execution_count": 8,
      "outputs": []
    },
    {
      "cell_type": "code",
      "source": [
        "# GRU Cell\n",
        "class GRUCell:\n",
        "    def __init__(self, input_size, hidden_size):\n",
        "        self.hidden_size = hidden_size\n",
        "\n",
        "        # Initialize weights\n",
        "        self.Wz = np.random.randn(input_size, hidden_size) * 0.01\n",
        "        self.Wr = np.random.randn(input_size, hidden_size) * 0.01\n",
        "        self.Wh = np.random.randn(input_size, hidden_size) * 0.01\n",
        "\n",
        "        self.Uz = np.random.randn(hidden_size, hidden_size) * 0.01\n",
        "        self.Ur = np.random.randn(hidden_size, hidden_size) * 0.01\n",
        "        self.Uh = np.random.randn(hidden_size, hidden_size) * 0.01\n",
        "\n",
        "        self.bz = np.zeros((1, hidden_size))\n",
        "        self.br = np.zeros((1, hidden_size))\n",
        "        self.bh = np.zeros((1, hidden_size))\n",
        "\n",
        "    def forward(self, x, h_prev):\n",
        "        # Update gate\n",
        "        z_t = sigmoid(np.dot(x, self.Wz) + np.dot(h_prev, self.Uz) + self.bz)\n",
        "\n",
        "        # Reset gate\n",
        "        r_t = sigmoid(np.dot(x, self.Wr) + np.dot(h_prev, self.Ur) + self.br)\n",
        "\n",
        "        # Candidate hidden state\n",
        "        h_tilde = tanh(np.dot(x, self.Wh) + np.dot(r_t * h_prev, self.Uh) + self.bh)\n",
        "\n",
        "        # Final hidden state\n",
        "        h_next = (1 - z_t) * h_prev + z_t * h_tilde\n",
        "\n",
        "        return h_next"
      ],
      "metadata": {
        "id": "7tHR98fqzizs"
      },
      "execution_count": 9,
      "outputs": []
    },
    {
      "cell_type": "code",
      "source": [
        "# Fully Connected Layer (Dense Layer)\n",
        "class DenseLayer:\n",
        "    def __init__(self, input_size, output_size):\n",
        "        self.weights = np.random.randn(input_size, output_size) * 0.01\n",
        "        self.bias = np.zeros((1, output_size))\n",
        "\n",
        "    def forward(self, x):\n",
        "        return np.dot(x, self.weights) + self.bias"
      ],
      "metadata": {
        "id": "qf7Abpadzwcb"
      },
      "execution_count": 7,
      "outputs": []
    },
    {
      "cell_type": "code",
      "source": [
        "\n",
        "# Binary Crossentropy Loss\n",
        "def binary_crossentropy_loss(y_true, y_pred):\n",
        "    epsilon = 1e-9\n",
        "    return -np.mean(y_true * np.log(y_pred + epsilon) + (1 - y_true) * np.log(1 - y_pred + epsilon))\n",
        "\n",
        "def binary_crossentropy_loss_derivative(y_true, y_pred):\n",
        "    epsilon = 1e-9\n",
        "    return - (y_true / (y_pred + epsilon)) + ((1 - y_true) / (1 - y_pred + epsilon))"
      ],
      "metadata": {
        "id": "hMslmlmcz0GL"
      },
      "execution_count": 10,
      "outputs": []
    },
    {
      "cell_type": "code",
      "source": [
        "# Model\n",
        "class GRUModel:\n",
        "    def __init__(self, input_size, hidden_size, output_size):\n",
        "        self.gru = GRUCell(input_size, hidden_size)\n",
        "        self.dense = DenseLayer(hidden_size, output_size)\n",
        "\n",
        "    def forward(self, X):\n",
        "        batch_size, time_steps, _ = X.shape\n",
        "        h = np.zeros((batch_size, self.gru.hidden_size))  # Initial hidden state\n",
        "        for t in range(time_steps):\n",
        "            h = self.gru.forward(X[:, t], h)  # GRU through time\n",
        "\n",
        "        output = sigmoid(self.dense.forward(h))  # Final output\n",
        "        return output\n",
        "\n",
        "    def compute_loss(self, y_true, y_pred):\n",
        "        return binary_crossentropy_loss(y_true, y_pred)\n",
        "\n",
        "    def backprop(self, X, y_true, y_pred):\n",
        "        # Placeholder for backpropagation (calculate gradients and update weights)\n",
        "        # For full implementation, backpropagation through time (BPTT) would be necessary\n",
        "        pass\n"
      ],
      "metadata": {
        "id": "bH3ALKiZz4KZ"
      },
      "execution_count": 11,
      "outputs": []
    },
    {
      "cell_type": "code",
      "source": [
        "\n",
        "# Accuracy calculation\n",
        "def calculate_accuracy(y_true, y_pred):\n",
        "    y_pred_class = (y_pred >= 0.5).astype(int)\n",
        "    return np.mean(y_true == y_pred_class)\n",
        "\n",
        "# Convert the input data to the right shape for the model\n",
        "def reshape_input(X, max_words, vocab_size):\n",
        "    X_reshaped = np.zeros((X.shape[0], max_words, vocab_size))\n",
        "    for i in range(X.shape[0]):\n",
        "        for t, word_idx in enumerate(X[i]):\n",
        "            if word_idx < vocab_size:\n",
        "                X_reshaped[i, t, word_idx] = 1  # One-hot encoding\n",
        "    return X_reshaped\n"
      ],
      "metadata": {
        "id": "Rf_E5AZqz70l"
      },
      "execution_count": 12,
      "outputs": []
    },
    {
      "cell_type": "code",
      "source": [
        "\n",
        "\n",
        "# Prepare the input data\n",
        "vocab_size = top_words\n",
        "X_train_reshaped = reshape_input(X_train, max_words, vocab_size)\n",
        "X_test_reshaped = reshape_input(X_test, max_words, vocab_size)\n",
        "\n",
        "# Hyperparameters\n",
        "input_size = vocab_size  # Vocabulary size\n",
        "hidden_size = 100\n",
        "output_size = 1\n",
        "learning_rate = 0.01\n",
        "epochs = 3\n",
        "\n",
        "# Initialize model\n",
        "model = GRUModel(input_size, hidden_size, output_size)\n"
      ],
      "metadata": {
        "id": "Lz-9xde0z_Q6"
      },
      "execution_count": null,
      "outputs": []
    },
    {
      "cell_type": "code",
      "source": [
        "\n",
        "\n",
        "# Train the model\n",
        "for epoch in range(epochs):\n",
        "    y_pred = model.forward(X_train_reshaped)  # Forward pass\n",
        "    loss = model.compute_loss(y_train, y_pred)  # Compute loss\n",
        "    print(f\"Epoch {epoch+1}/{epochs}, Loss: {loss}\")\n",
        "    model.backprop(X_train_reshaped, y_train, y_pred)  # Placeholder for backpropagation\n",
        "\n",
        "    accuracy = calculate_accuracy(y_train, y_pred)  # Training accuracy\n",
        "    print(f\"Training Accuracy: {accuracy * 100:.2f}%\")"
      ],
      "metadata": {
        "id": "SfhyxBmR0Bzg"
      },
      "execution_count": null,
      "outputs": []
    },
    {
      "cell_type": "code",
      "source": [
        "\n",
        "\n",
        "\n",
        "# Evaluate the model on test data\n",
        "y_pred_test = model.forward(X_test_reshaped)\n",
        "test_accuracy = calculate_accuracy(y_test, y_pred_test)\n",
        "print(f\"Test Accuracy: {test_accuracy * 100:.2f}%\")"
      ],
      "metadata": {
        "colab": {
          "base_uri": "https://localhost:8080/",
          "height": 203
        },
        "id": "eVTtaPL10Gd7",
        "outputId": "3ccacba2-3173-41b4-fb90-4a9e13be763a"
      },
      "execution_count": 1,
      "outputs": [
        {
          "output_type": "error",
          "ename": "NameError",
          "evalue": "name 'model' is not defined",
          "traceback": [
            "\u001b[0;31m---------------------------------------------------------------------------\u001b[0m",
            "\u001b[0;31mNameError\u001b[0m                                 Traceback (most recent call last)",
            "\u001b[0;32m<ipython-input-1-ebebb56c4409>\u001b[0m in \u001b[0;36m<cell line: 2>\u001b[0;34m()\u001b[0m\n\u001b[1;32m      1\u001b[0m \u001b[0;31m# Evaluate the model on test data\u001b[0m\u001b[0;34m\u001b[0m\u001b[0;34m\u001b[0m\u001b[0m\n\u001b[0;32m----> 2\u001b[0;31m \u001b[0my_pred_test\u001b[0m \u001b[0;34m=\u001b[0m \u001b[0mmodel\u001b[0m\u001b[0;34m.\u001b[0m\u001b[0mforward\u001b[0m\u001b[0;34m(\u001b[0m\u001b[0mX_test_reshaped\u001b[0m\u001b[0;34m)\u001b[0m\u001b[0;34m\u001b[0m\u001b[0;34m\u001b[0m\u001b[0m\n\u001b[0m\u001b[1;32m      3\u001b[0m \u001b[0mtest_accuracy\u001b[0m \u001b[0;34m=\u001b[0m \u001b[0mcalculate_accuracy\u001b[0m\u001b[0;34m(\u001b[0m\u001b[0my_test\u001b[0m\u001b[0;34m,\u001b[0m \u001b[0my_pred_test\u001b[0m\u001b[0;34m)\u001b[0m\u001b[0;34m\u001b[0m\u001b[0;34m\u001b[0m\u001b[0m\n\u001b[1;32m      4\u001b[0m \u001b[0mprint\u001b[0m\u001b[0;34m(\u001b[0m\u001b[0;34mf\"Test Accuracy: {test_accuracy * 100:.2f}%\"\u001b[0m\u001b[0;34m)\u001b[0m\u001b[0;34m\u001b[0m\u001b[0;34m\u001b[0m\u001b[0m\n",
            "\u001b[0;31mNameError\u001b[0m: name 'model' is not defined"
          ]
        }
      ]
    }
  ]
}