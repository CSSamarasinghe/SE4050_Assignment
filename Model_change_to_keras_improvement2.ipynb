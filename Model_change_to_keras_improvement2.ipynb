{
  "nbformat": 4,
  "nbformat_minor": 0,
  "metadata": {
    "colab": {
      "provenance": [],
      "include_colab_link": true
    },
    "kernelspec": {
      "name": "python3",
      "display_name": "Python 3"
    },
    "language_info": {
      "name": "python"
    }
  },
  "cells": [
    {
      "cell_type": "markdown",
      "metadata": {
        "id": "view-in-github",
        "colab_type": "text"
      },
      "source": [
        "<a href=\"https://colab.research.google.com/github/CSSamarasinghe/SE4050_Assignment/blob/IT21263194/Model_change_to_keras_improvement2.ipynb\" target=\"_parent\"><img src=\"https://colab.research.google.com/assets/colab-badge.svg\" alt=\"Open In Colab\"/></a>"
      ]
    },
    {
      "cell_type": "code",
      "source": [
        "# IMPORTANT: RUN THIS CELL IN ORDER TO IMPORT YOUR KAGGLE DATA SOURCES\n",
        "# TO THE CORRECT LOCATION (/kaggle/input) IN YOUR NOTEBOOK,\n",
        "# THEN FEEL FREE TO DELETE THIS CELL.\n",
        "# NOTE: THIS NOTEBOOK ENVIRONMENT DIFFERS FROM KAGGLE'S PYTHON\n",
        "# ENVIRONMENT SO THERE MAY BE MISSING LIBRARIES USED BY YOUR\n",
        "# NOTEBOOK.\n",
        "\n",
        "import os\n",
        "import sys\n",
        "from tempfile import NamedTemporaryFile\n",
        "from urllib.request import urlopen\n",
        "from urllib.parse import unquote, urlparse\n",
        "from urllib.error import HTTPError\n",
        "from zipfile import ZipFile\n",
        "import tarfile\n",
        "import shutil\n",
        "\n",
        "CHUNK_SIZE = 40960\n",
        "DATA_SOURCE_MAPPING = 'amazon-reviews-for-sentianalysis-finegrained-csv:https%3A%2F%2Fstorage.googleapis.com%2Fkaggle-data-sets%2F2078107%2F3499094%2Fbundle%2Farchive.zip%3FX-Goog-Algorithm%3DGOOG4-RSA-SHA256%26X-Goog-Credential%3Dgcp-kaggle-com%2540kaggle-161607.iam.gserviceaccount.com%252F20241003%252Fauto%252Fstorage%252Fgoog4_request%26X-Goog-Date%3D20241003T164549Z%26X-Goog-Expires%3D259200%26X-Goog-SignedHeaders%3Dhost%26X-Goog-Signature%3D25a30a2ad799910d48f45f67793fb1d09f31560ae3773fa14870108018fa213261ae62aeb020867952a30d8094a21359c2546a6475193ac986bc2645a191d848c7223dbd5c68600aeb8f17d5a979be9750827328816b6743cf0d74ca79e5a28878f8606f4d3cd2176678d18b8a70a20bbf9be8037aa238d4b56bd1a0ba1a8d1fb4003bbd12f51fa6d438aaa8a7e8fa90a9291e62969f7df78c34dc6a71c76fb2f1c11e2964127136ec4d5554e9f1bdd7c530f8ddf987a08dd6cb91a849e4e98a2089149d22cb00ca687688c756071af4270e392fd79699c1f4a35ca16597523ca8bfe37fea11d5911465ea51d6eb17c1e3663da806763c8ef4e96e1f0a9ae9ab'\n",
        "\n",
        "KAGGLE_INPUT_PATH='/kaggle/input'\n",
        "KAGGLE_WORKING_PATH='/kaggle/working'\n",
        "KAGGLE_SYMLINK='kaggle'\n",
        "\n",
        "!umount /kaggle/input/ 2> /dev/null\n",
        "shutil.rmtree('/kaggle/input', ignore_errors=True)\n",
        "os.makedirs(KAGGLE_INPUT_PATH, 0o777, exist_ok=True)\n",
        "os.makedirs(KAGGLE_WORKING_PATH, 0o777, exist_ok=True)\n",
        "\n",
        "try:\n",
        "  os.symlink(KAGGLE_INPUT_PATH, os.path.join(\"..\", 'input'), target_is_directory=True)\n",
        "except FileExistsError:\n",
        "  pass\n",
        "try:\n",
        "  os.symlink(KAGGLE_WORKING_PATH, os.path.join(\"..\", 'working'), target_is_directory=True)\n",
        "except FileExistsError:\n",
        "  pass\n",
        "\n",
        "for data_source_mapping in DATA_SOURCE_MAPPING.split(','):\n",
        "    directory, download_url_encoded = data_source_mapping.split(':')\n",
        "    download_url = unquote(download_url_encoded)\n",
        "    filename = urlparse(download_url).path\n",
        "    destination_path = os.path.join(KAGGLE_INPUT_PATH, directory)\n",
        "    try:\n",
        "        with urlopen(download_url) as fileres, NamedTemporaryFile() as tfile:\n",
        "            total_length = fileres.headers['content-length']\n",
        "            print(f'Downloading {directory}, {total_length} bytes compressed')\n",
        "            dl = 0\n",
        "            data = fileres.read(CHUNK_SIZE)\n",
        "            while len(data) > 0:\n",
        "                dl += len(data)\n",
        "                tfile.write(data)\n",
        "                done = int(50 * dl / int(total_length))\n",
        "                sys.stdout.write(f\"\\r[{'=' * done}{' ' * (50-done)}] {dl} bytes downloaded\")\n",
        "                sys.stdout.flush()\n",
        "                data = fileres.read(CHUNK_SIZE)\n",
        "            if filename.endswith('.zip'):\n",
        "              with ZipFile(tfile) as zfile:\n",
        "                zfile.extractall(destination_path)\n",
        "            else:\n",
        "              with tarfile.open(tfile.name) as tarfile:\n",
        "                tarfile.extractall(destination_path)\n",
        "            print(f'\\nDownloaded and uncompressed: {directory}')\n",
        "    except HTTPError as e:\n",
        "        print(f'Failed to load (likely expired) {download_url} to path {destination_path}')\n",
        "        continue\n",
        "    except OSError as e:\n",
        "        print(f'Failed to load {download_url} to path {destination_path}')\n",
        "        continue\n",
        "\n",
        "print('Data source import complete.')"
      ],
      "metadata": {
        "colab": {
          "base_uri": "https://localhost:8080/"
        },
        "id": "KnvAoYukqQLj",
        "outputId": "b08518d7-0827-4d13-f4b5-8c06afd07427"
      },
      "execution_count": 12,
      "outputs": [
        {
          "output_type": "stream",
          "name": "stdout",
          "text": [
            "Downloading amazon-reviews-for-sentianalysis-finegrained-csv, 654512809 bytes compressed\n",
            "[==================================================] 654512809 bytes downloaded\n",
            "Downloaded and uncompressed: amazon-reviews-for-sentianalysis-finegrained-csv\n",
            "Data source import complete.\n"
          ]
        }
      ]
    },
    {
      "cell_type": "code",
      "source": [
        "import pandas as pd\n",
        "import numpy as np\n",
        "from sklearn.model_selection import train_test_split\n",
        "from tensorflow.keras.preprocessing.text import Tokenizer\n",
        "from tensorflow.keras.preprocessing.sequence import pad_sequences\n",
        "\n",
        "# Load and preprocess data\n",
        "train_data = pd.read_csv('../input/amazon-reviews-for-sentianalysis-finegrained-csv/amazon_review_fine-grained_5_classes_csv/train.csv')\n",
        "test_data = pd.read_csv('../input/amazon-reviews-for-sentianalysis-finegrained-csv/amazon_review_fine-grained_5_classes_csv/test.csv')\n",
        "\n",
        "# Sample the dataset for manageable size (adjust as necessary)\n",
        "train_data = train_data.sample(n=80000, random_state=42)\n",
        "test_data = test_data.sample(n=35000, random_state=42)\n",
        "\n",
        "# Initialize the tokenizer and fit on training data\n",
        "tokenizer = Tokenizer()\n",
        "tokenizer.fit_on_texts(train_data['review_text'])\n",
        "\n",
        "# Convert text to sequences\n",
        "X_train = tokenizer.texts_to_sequences(train_data['review_text'])\n",
        "X_test = tokenizer.texts_to_sequences(test_data['review_text'])\n",
        "\n",
        "# Pad sequences to ensure uniform input size\n",
        "max_length = max(max(len(seq) for seq in X_train), max(len(seq) for seq in X_test))\n",
        "X_train_padded = pad_sequences(X_train, maxlen=max_length, padding='post')\n",
        "X_test_padded = pad_sequences(X_test, maxlen=max_length, padding='post')\n",
        "\n",
        "# Prepare labels (keep them as integers)\n",
        "Y_train = train_data['class_index'].values -1\n",
        "Y_test = test_data['class_index'].values -1\n",
        "\n",
        "# Split the entire dataset into training (60%), validation (20%), and test (20%)\n",
        "X_train_temp, X_val, y_train_temp, y_val = train_test_split(\n",
        "    X_train_padded, Y_train, test_size=0.2, random_state=42, stratify=Y_train)\n",
        "\n",
        "X_train, X_test_final, y_train, y_test_final = train_test_split(\n",
        "    X_train_temp, y_train_temp, test_size=0.25, random_state=42)  # 0.25 of 80% is 20%\n",
        "\n",
        "# Further split the training data into four parts\n",
        "X_train_first, X_train_second, y_train_first, y_train_second = train_test_split(\n",
        "    X_train, y_train, test_size=0.5, random_state=42)\n",
        "\n",
        "X_train_third, X_train_fourth, y_train_third, y_train_fourth = train_test_split(\n",
        "    X_train_second, y_train_second, test_size=0.5, random_state=42)\n",
        "\n",
        "# Output the shapes to verify the splits\n",
        "print(\"Training Data Shapes:\")\n",
        "print(\"X_train_first shape:\", X_train_first.shape)\n",
        "print(\"y_train_first shape:\", y_train_first.shape)\n",
        "print(\"X_train_second shape:\", X_train_second.shape)\n",
        "print(\"y_train_second shape:\", y_train_second.shape)\n",
        "print(\"X_train_third shape:\", X_train_third.shape)\n",
        "print(\"y_train_third shape:\", y_train_third.shape)\n",
        "print(\"X_train_fourth shape:\", X_train_fourth.shape)\n",
        "print(\"y_train_fourth shape:\", y_train_fourth.shape)\n",
        "\n",
        "print(\"\\nValidation Data Shape:\")\n",
        "print(\"X_val shape:\", X_val.shape)\n",
        "print(\"y_val shape:\", y_val.shape)\n",
        "\n",
        "print(\"\\nTest Data Shape:\")\n",
        "print(\"X_test_final shape:\", X_test_final.shape)\n",
        "print(\"y_test_final shape:\", y_test_final.shape)\n",
        "\n",
        "# Convert NumPy arrays to Pandas DataFrames for easier inspection (optional)\n",
        "df1 = pd.DataFrame(X_train_first)\n",
        "df2 = pd.DataFrame(X_train_second)\n",
        "df3 = pd.DataFrame(X_train_third)\n",
        "df4 = pd.DataFrame(X_train_fourth)\n",
        "\n",
        "# Display the first few rows of each DataFrame (optional)\n",
        "print(\"\\nFirst subset of training data:\")\n",
        "print(df1.head())\n",
        "print(\"\\nSecond subset of training data:\")\n",
        "print(df2.head())\n",
        "print(\"\\nThird subset of training data:\")\n",
        "print(df3.head())\n",
        "print(\"\\nFourth subset of training data:\")\n",
        "print(df4.head())\n"
      ],
      "metadata": {
        "colab": {
          "base_uri": "https://localhost:8080/"
        },
        "id": "_gCwzjgen_Bi",
        "outputId": "981d0bb7-049b-4492-adca-0d7e9a8c7f4e"
      },
      "execution_count": 13,
      "outputs": [
        {
          "output_type": "stream",
          "name": "stdout",
          "text": [
            "Training Data Shapes:\n",
            "X_train_first shape: (24000, 215)\n",
            "y_train_first shape: (24000,)\n",
            "X_train_second shape: (24000, 215)\n",
            "y_train_second shape: (24000,)\n",
            "X_train_third shape: (12000, 215)\n",
            "y_train_third shape: (12000,)\n",
            "X_train_fourth shape: (12000, 215)\n",
            "y_train_fourth shape: (12000,)\n",
            "\n",
            "Validation Data Shape:\n",
            "X_val shape: (16000, 215)\n",
            "y_val shape: (16000,)\n",
            "\n",
            "Test Data Shape:\n",
            "X_test_final shape: (16000, 215)\n",
            "y_test_final shape: (16000,)\n",
            "\n",
            "First subset of training data:\n",
            "     0     1     2     3      4      5    6     7     8    9    ...  205  206  \\\n",
            "0      2    45     1  1223     11  35652    3    31  3817   31  ...    0    0   \n",
            "1      2    71  1481  1744     27      2  167  2109    18    1  ...    0    0   \n",
            "2      2    33   347     1  53017     22    4   470     3   29  ...    0    0   \n",
            "3      2    20    84     4   8510   7183  212    11     4  151  ...    0    0   \n",
            "4  18661  8622  5303   620    107     20    4    91    78   65  ...    0    0   \n",
            "\n",
            "   207  208  209  210  211  212  213  214  \n",
            "0    0    0    0    0    0    0    0    0  \n",
            "1    0    0    0    0    0    0    0    0  \n",
            "2    0    0    0    0    0    0    0    0  \n",
            "3    0    0    0    0    0    0    0    0  \n",
            "4    0    0    0    0    0    0    0    0  \n",
            "\n",
            "[5 rows x 215 columns]\n",
            "\n",
            "Second subset of training data:\n",
            "   0     1    2    3    4     5     6     7     8     9    ...  205  206  207  \\\n",
            "0    2    13  670   11    4   214  5211  2999    16     4  ...    0    0    0   \n",
            "1  279     2   93   16  309     8   203   148   216   115  ...    0    0    0   \n",
            "2    2    20    1  253  818     3   183   105     4  6778  ...    0    0    0   \n",
            "3   76  5156   77  241    5  1099  4420  5156    11  4028  ...    0    0    0   \n",
            "4    2    88    1  570    7     1  1365  2818  3329     6  ...    0    0    0   \n",
            "\n",
            "   208  209  210  211  212  213  214  \n",
            "0    0    0    0    0    0    0    0  \n",
            "1    0    0    0    0    0    0    0  \n",
            "2    0    0    0    0    0    0    0  \n",
            "3    0    0    0    0    0    0    0  \n",
            "4    0    0    0    0    0    0    0  \n",
            "\n",
            "[5 rows x 215 columns]\n",
            "\n",
            "Third subset of training data:\n",
            "    0     1     2    3     4     5     6     7      8     9    ...  205  206  \\\n",
            "0   519   181    43    4   743   102     8    19     20  1592  ...    0    0   \n",
            "1  3339  8223     3   58  8161    77   277   157     31   365  ...    0    0   \n",
            "2    21   458  1371   11     4    19    39   565  44851    11  ...    0    0   \n",
            "3     2   282     8   19   513    18     4   239      7   492  ...    0    0   \n",
            "4     2   241     8  449    18  3812  4639  3089      1   497  ...    0    0   \n",
            "\n",
            "   207  208  209  210  211  212  213  214  \n",
            "0    0    0    0    0    0    0    0    0  \n",
            "1    0    0    0    0    0    0    0    0  \n",
            "2    0    0    0    0    0    0    0    0  \n",
            "3    0    0    0    0    0    0    0    0  \n",
            "4    0    0    0    0    0    0    0    0  \n",
            "\n",
            "[5 rows x 215 columns]\n",
            "\n",
            "Fourth subset of training data:\n",
            "   0    1     2     3     4      5      6     7    8     9    ...  205  206  \\\n",
            "0    8  218  2172   762     3   1531   1428   342   67  1428  ...    0    0   \n",
            "1   34  191  2472   472  9197    647  12516     9    1   554  ...    0    0   \n",
            "2    8    9    30    14     2  27304    749  1022  442    41  ...    0    0   \n",
            "3   45    5    54     8    19     11      4   721  461    21  ...    0    0   \n",
            "4    8   13     4  1796    19     18      1  6974    7     1  ...    0    0   \n",
            "\n",
            "   207  208  209  210  211  212  213  214  \n",
            "0    0    0    0    0    0    0    0    0  \n",
            "1    0    0    0    0    0    0    0    0  \n",
            "2    0    0    0    0    0    0    0    0  \n",
            "3    0    0    0    0    0    0    0    0  \n",
            "4    0    0    0    0    0    0    0    0  \n",
            "\n",
            "[5 rows x 215 columns]\n"
          ]
        }
      ]
    },
    {
      "cell_type": "code",
      "source": [
        "from tensorflow.keras.regularizers import l1_l2, l2  # Import both l1_l2 and l2\n",
        "from tensorflow.keras.models import Sequential\n",
        "from tensorflow.keras.layers import Embedding, Bidirectional, LSTM, Dropout, GlobalMaxPool1D, Dense\n",
        "from tensorflow.keras.optimizers import Adam\n",
        "\n",
        "# Define model parameters\n",
        "embedding_dim = 200  # GloVe embedding dimension\n",
        "vocab_size = len(tokenizer.word_index) + 1  # Vocabulary size\n",
        "max_length = X_train_first.shape[1]  # Sequence length\n",
        "\n",
        "# Initialize the model\n",
        "model = Sequential()\n",
        "\n",
        "# Embedding layer initialized with GloVe embeddings (weights need to be defined)\n",
        "embedding_matrix = np.zeros((vocab_size, embedding_dim))  # Initialize embedding matrix\n",
        "\n",
        "model.add(Embedding(input_dim=vocab_size,\n",
        "                    output_dim=embedding_dim,\n",
        "                    weights=[embedding_matrix],\n",
        "                    trainable=True))  # Set trainable=False to freeze GloVe weights\n",
        "\n",
        "# Bidirectional LSTM layer with L2 regularization\n",
        "model.add(Bidirectional(LSTM(64, return_sequences=True,\n",
        "                             kernel_regularizer=l1_l2(l1=1e-5, l2=1e-4),\n",
        "                             recurrent_regularizer=l2(1e-4),\n",
        "                             bias_regularizer=l2(1e-4))))\n",
        "\n",
        "# Dropout layer to prevent overfitting\n",
        "model.add(Dropout(0.5))\n",
        "\n",
        "# Global Max Pooling layer for dimensionality reduction\n",
        "model.add(GlobalMaxPool1D())\n",
        "\n",
        "# Output layer for classification into 5 classes (rating from 1 to 5), with L2 regularization\n",
        "model.add(Dense(5, activation='softmax', kernel_regularizer=l2(1e-4)))\n",
        "\n",
        "# Compile the model with categorical crossentropy for classification\n",
        "model.compile(loss='sparse_categorical_crossentropy',\n",
        "              optimizer=Adam(learning_rate=0.001),\n",
        "              metrics=['accuracy'])\n",
        "\n",
        "# Model summary\n",
        "model.summary()\n",
        "\n"
      ],
      "metadata": {
        "colab": {
          "base_uri": "https://localhost:8080/",
          "height": 305
        },
        "id": "UrF4DHi2pJBy",
        "outputId": "e2cb3b24-d3a0-4619-a7a2-a7816698c2ef"
      },
      "execution_count": 24,
      "outputs": [
        {
          "output_type": "display_data",
          "data": {
            "text/plain": [
              "\u001b[1mModel: \"sequential_4\"\u001b[0m\n"
            ],
            "text/html": [
              "<pre style=\"white-space:pre;overflow-x:auto;line-height:normal;font-family:Menlo,'DejaVu Sans Mono',consolas,'Courier New',monospace\"><span style=\"font-weight: bold\">Model: \"sequential_4\"</span>\n",
              "</pre>\n"
            ]
          },
          "metadata": {}
        },
        {
          "output_type": "display_data",
          "data": {
            "text/plain": [
              "┏━━━━━━━━━━━━━━━━━━━━━━━━━━━━━━━━━━━━━━┳━━━━━━━━━━━━━━━━━━━━━━━━━━━━━┳━━━━━━━━━━━━━━━━━┓\n",
              "┃\u001b[1m \u001b[0m\u001b[1mLayer (type)                        \u001b[0m\u001b[1m \u001b[0m┃\u001b[1m \u001b[0m\u001b[1mOutput Shape               \u001b[0m\u001b[1m \u001b[0m┃\u001b[1m \u001b[0m\u001b[1m        Param #\u001b[0m\u001b[1m \u001b[0m┃\n",
              "┡━━━━━━━━━━━━━━━━━━━━━━━━━━━━━━━━━━━━━━╇━━━━━━━━━━━━━━━━━━━━━━━━━━━━━╇━━━━━━━━━━━━━━━━━┩\n",
              "│ embedding_4 (\u001b[38;5;33mEmbedding\u001b[0m)              │ ?                           │      \u001b[38;5;34m22,384,400\u001b[0m │\n",
              "├──────────────────────────────────────┼─────────────────────────────┼─────────────────┤\n",
              "│ bidirectional_6 (\u001b[38;5;33mBidirectional\u001b[0m)      │ ?                           │     \u001b[38;5;34m0\u001b[0m (unbuilt) │\n",
              "├──────────────────────────────────────┼─────────────────────────────┼─────────────────┤\n",
              "│ dropout_3 (\u001b[38;5;33mDropout\u001b[0m)                  │ ?                           │     \u001b[38;5;34m0\u001b[0m (unbuilt) │\n",
              "├──────────────────────────────────────┼─────────────────────────────┼─────────────────┤\n",
              "│ global_max_pooling1d_3               │ ?                           │     \u001b[38;5;34m0\u001b[0m (unbuilt) │\n",
              "│ (\u001b[38;5;33mGlobalMaxPooling1D\u001b[0m)                 │                             │                 │\n",
              "├──────────────────────────────────────┼─────────────────────────────┼─────────────────┤\n",
              "│ dense_3 (\u001b[38;5;33mDense\u001b[0m)                      │ ?                           │     \u001b[38;5;34m0\u001b[0m (unbuilt) │\n",
              "└──────────────────────────────────────┴─────────────────────────────┴─────────────────┘\n"
            ],
            "text/html": [
              "<pre style=\"white-space:pre;overflow-x:auto;line-height:normal;font-family:Menlo,'DejaVu Sans Mono',consolas,'Courier New',monospace\">┏━━━━━━━━━━━━━━━━━━━━━━━━━━━━━━━━━━━━━━┳━━━━━━━━━━━━━━━━━━━━━━━━━━━━━┳━━━━━━━━━━━━━━━━━┓\n",
              "┃<span style=\"font-weight: bold\"> Layer (type)                         </span>┃<span style=\"font-weight: bold\"> Output Shape                </span>┃<span style=\"font-weight: bold\">         Param # </span>┃\n",
              "┡━━━━━━━━━━━━━━━━━━━━━━━━━━━━━━━━━━━━━━╇━━━━━━━━━━━━━━━━━━━━━━━━━━━━━╇━━━━━━━━━━━━━━━━━┩\n",
              "│ embedding_4 (<span style=\"color: #0087ff; text-decoration-color: #0087ff\">Embedding</span>)              │ ?                           │      <span style=\"color: #00af00; text-decoration-color: #00af00\">22,384,400</span> │\n",
              "├──────────────────────────────────────┼─────────────────────────────┼─────────────────┤\n",
              "│ bidirectional_6 (<span style=\"color: #0087ff; text-decoration-color: #0087ff\">Bidirectional</span>)      │ ?                           │     <span style=\"color: #00af00; text-decoration-color: #00af00\">0</span> (unbuilt) │\n",
              "├──────────────────────────────────────┼─────────────────────────────┼─────────────────┤\n",
              "│ dropout_3 (<span style=\"color: #0087ff; text-decoration-color: #0087ff\">Dropout</span>)                  │ ?                           │     <span style=\"color: #00af00; text-decoration-color: #00af00\">0</span> (unbuilt) │\n",
              "├──────────────────────────────────────┼─────────────────────────────┼─────────────────┤\n",
              "│ global_max_pooling1d_3               │ ?                           │     <span style=\"color: #00af00; text-decoration-color: #00af00\">0</span> (unbuilt) │\n",
              "│ (<span style=\"color: #0087ff; text-decoration-color: #0087ff\">GlobalMaxPooling1D</span>)                 │                             │                 │\n",
              "├──────────────────────────────────────┼─────────────────────────────┼─────────────────┤\n",
              "│ dense_3 (<span style=\"color: #0087ff; text-decoration-color: #0087ff\">Dense</span>)                      │ ?                           │     <span style=\"color: #00af00; text-decoration-color: #00af00\">0</span> (unbuilt) │\n",
              "└──────────────────────────────────────┴─────────────────────────────┴─────────────────┘\n",
              "</pre>\n"
            ]
          },
          "metadata": {}
        },
        {
          "output_type": "display_data",
          "data": {
            "text/plain": [
              "\u001b[1m Total params: \u001b[0m\u001b[38;5;34m22,384,400\u001b[0m (85.39 MB)\n"
            ],
            "text/html": [
              "<pre style=\"white-space:pre;overflow-x:auto;line-height:normal;font-family:Menlo,'DejaVu Sans Mono',consolas,'Courier New',monospace\"><span style=\"font-weight: bold\"> Total params: </span><span style=\"color: #00af00; text-decoration-color: #00af00\">22,384,400</span> (85.39 MB)\n",
              "</pre>\n"
            ]
          },
          "metadata": {}
        },
        {
          "output_type": "display_data",
          "data": {
            "text/plain": [
              "\u001b[1m Trainable params: \u001b[0m\u001b[38;5;34m22,384,400\u001b[0m (85.39 MB)\n"
            ],
            "text/html": [
              "<pre style=\"white-space:pre;overflow-x:auto;line-height:normal;font-family:Menlo,'DejaVu Sans Mono',consolas,'Courier New',monospace\"><span style=\"font-weight: bold\"> Trainable params: </span><span style=\"color: #00af00; text-decoration-color: #00af00\">22,384,400</span> (85.39 MB)\n",
              "</pre>\n"
            ]
          },
          "metadata": {}
        },
        {
          "output_type": "display_data",
          "data": {
            "text/plain": [
              "\u001b[1m Non-trainable params: \u001b[0m\u001b[38;5;34m0\u001b[0m (0.00 B)\n"
            ],
            "text/html": [
              "<pre style=\"white-space:pre;overflow-x:auto;line-height:normal;font-family:Menlo,'DejaVu Sans Mono',consolas,'Courier New',monospace\"><span style=\"font-weight: bold\"> Non-trainable params: </span><span style=\"color: #00af00; text-decoration-color: #00af00\">0</span> (0.00 B)\n",
              "</pre>\n"
            ]
          },
          "metadata": {}
        }
      ]
    },
    {
      "cell_type": "code",
      "source": [
        "import matplotlib.pyplot as plt\n",
        "\n",
        "# Placeholder for accuracy values from each subset training\n",
        "all_train_accuracies = []\n",
        "all_val_accuracies = []\n",
        "\n",
        "# Train model with the first subset\n",
        "history1 = model.fit(X_train_first, y_train_first, validation_data=(X_val, y_val), epochs=3, batch_size=256, verbose=1)\n",
        "all_train_accuracies.append(history1.history['accuracy'])\n",
        "all_val_accuracies.append(history1.history['val_accuracy'])\n",
        "\n",
        "# Train model with the second subset\n",
        "history2 = model.fit(X_train_second, y_train_second, validation_data=(X_val, y_val), epochs=3, batch_size=256, verbose=1)\n",
        "all_train_accuracies.append(history2.history['accuracy'])\n",
        "all_val_accuracies.append(history2.history['val_accuracy'])\n",
        "\n",
        "# Train model with the third subset\n",
        "history3 = model.fit(X_train_third, y_train_third, validation_data=(X_val, y_val), epochs=3, batch_size=256, verbose=1)\n",
        "all_train_accuracies.append(history3.history['accuracy'])\n",
        "all_val_accuracies.append(history3.history['val_accuracy'])\n",
        "\n",
        "# Train model with the fourth subset\n",
        "history4 = model.fit(X_train_fourth, y_train_fourth, validation_data=(X_val, y_val), epochs=3, batch_size=256, verbose=1)\n",
        "all_train_accuracies.append(history4.history['accuracy'])\n",
        "all_val_accuracies.append(history4.history['val_accuracy'])\n",
        "\n",
        "\n"
      ],
      "metadata": {
        "colab": {
          "base_uri": "https://localhost:8080/"
        },
        "id": "HuUOZkqD0-gr",
        "outputId": "aa684488-bd31-4d41-a679-1048d42d1fba"
      },
      "execution_count": 25,
      "outputs": [
        {
          "output_type": "stream",
          "name": "stdout",
          "text": [
            "Epoch 1/3\n",
            "\u001b[1m94/94\u001b[0m \u001b[32m━━━━━━━━━━━━━━━━━━━━\u001b[0m\u001b[37m\u001b[0m \u001b[1m206s\u001b[0m 2s/step - accuracy: 0.2749 - loss: 1.6562 - val_accuracy: 0.4406 - val_loss: 1.4184\n",
            "Epoch 2/3\n",
            "\u001b[1m94/94\u001b[0m \u001b[32m━━━━━━━━━━━━━━━━━━━━\u001b[0m\u001b[37m\u001b[0m \u001b[1m205s\u001b[0m 2s/step - accuracy: 0.5250 - loss: 1.1833 - val_accuracy: 0.4700 - val_loss: 1.3161\n",
            "Epoch 3/3\n",
            "\u001b[1m94/94\u001b[0m \u001b[32m━━━━━━━━━━━━━━━━━━━━\u001b[0m\u001b[37m\u001b[0m \u001b[1m262s\u001b[0m 2s/step - accuracy: 0.6527 - loss: 0.9126 - val_accuracy: 0.4472 - val_loss: 1.3157\n",
            "Epoch 1/3\n",
            "\u001b[1m94/94\u001b[0m \u001b[32m━━━━━━━━━━━━━━━━━━━━\u001b[0m\u001b[37m\u001b[0m \u001b[1m215s\u001b[0m 2s/step - accuracy: 0.4567 - loss: 1.2973 - val_accuracy: 0.4829 - val_loss: 1.3023\n",
            "Epoch 2/3\n",
            "\u001b[1m94/94\u001b[0m \u001b[32m━━━━━━━━━━━━━━━━━━━━\u001b[0m\u001b[37m\u001b[0m \u001b[1m254s\u001b[0m 2s/step - accuracy: 0.6121 - loss: 0.9983 - val_accuracy: 0.4691 - val_loss: 1.2832\n",
            "Epoch 3/3\n",
            "\u001b[1m94/94\u001b[0m \u001b[32m━━━━━━━━━━━━━━━━━━━━\u001b[0m\u001b[37m\u001b[0m \u001b[1m261s\u001b[0m 2s/step - accuracy: 0.7268 - loss: 0.7664 - val_accuracy: 0.4569 - val_loss: 1.2915\n",
            "Epoch 1/3\n",
            "\u001b[1m47/47\u001b[0m \u001b[32m━━━━━━━━━━━━━━━━━━━━\u001b[0m\u001b[37m\u001b[0m \u001b[1m116s\u001b[0m 2s/step - accuracy: 0.8258 - loss: 0.5545 - val_accuracy: 0.4484 - val_loss: 1.3543\n",
            "Epoch 2/3\n",
            "\u001b[1m47/47\u001b[0m \u001b[32m━━━━━━━━━━━━━━━━━━━━\u001b[0m\u001b[37m\u001b[0m \u001b[1m142s\u001b[0m 2s/step - accuracy: 0.8942 - loss: 0.3845 - val_accuracy: 0.4306 - val_loss: 1.4768\n",
            "Epoch 3/3\n",
            "\u001b[1m47/47\u001b[0m \u001b[32m━━━━━━━━━━━━━━━━━━━━\u001b[0m\u001b[37m\u001b[0m \u001b[1m117s\u001b[0m 3s/step - accuracy: 0.9382 - loss: 0.2664 - val_accuracy: 0.4275 - val_loss: 1.5819\n",
            "Epoch 1/3\n",
            "\u001b[1m47/47\u001b[0m \u001b[32m━━━━━━━━━━━━━━━━━━━━\u001b[0m\u001b[37m\u001b[0m \u001b[1m117s\u001b[0m 3s/step - accuracy: 0.7631 - loss: 0.6804 - val_accuracy: 0.4428 - val_loss: 1.3639\n",
            "Epoch 2/3\n",
            "\u001b[1m47/47\u001b[0m \u001b[32m━━━━━━━━━━━━━━━━━━━━\u001b[0m\u001b[37m\u001b[0m \u001b[1m143s\u001b[0m 3s/step - accuracy: 0.8942 - loss: 0.3811 - val_accuracy: 0.4284 - val_loss: 1.5022\n",
            "Epoch 3/3\n",
            "\u001b[1m47/47\u001b[0m \u001b[32m━━━━━━━━━━━━━━━━━━━━\u001b[0m\u001b[37m\u001b[0m \u001b[1m141s\u001b[0m 2s/step - accuracy: 0.9483 - loss: 0.2319 - val_accuracy: 0.4277 - val_loss: 1.6274\n"
          ]
        }
      ]
    },
    {
      "cell_type": "code",
      "source": [
        "# Compute the average accuracy over all subsets\n",
        "average_train_accuracy = np.mean(all_train_accuracies, axis=0)\n",
        "average_val_accuracy = np.mean(all_val_accuracies, axis=0)\n",
        "\n",
        "# Plot the average accuracies\n",
        "epochs_range = range(1, 3 + 1)  # Assuming 3 epochs\n",
        "\n",
        "plt.figure(figsize=(8, 6))\n",
        "plt.plot(epochs_range, average_train_accuracy, label='Average Training Accuracy')\n",
        "plt.plot(epochs_range, average_val_accuracy, label='Average Validation Accuracy')\n",
        "plt.title('Training and Validation Accuracy Over Epochs')\n",
        "plt.xlabel('Epochs')\n",
        "plt.ylabel('Accuracy')\n",
        "plt.legend()\n",
        "plt.show()"
      ],
      "metadata": {
        "colab": {
          "base_uri": "https://localhost:8080/",
          "height": 564
        },
        "id": "dEttHO_bUJj3",
        "outputId": "dc4f2acb-16aa-4671-d558-4ca7da32cba6"
      },
      "execution_count": 27,
      "outputs": [
        {
          "output_type": "display_data",
          "data": {
            "text/plain": [
              "<Figure size 800x600 with 1 Axes>"
            ],
            "image/png": "[encoded data removed]"
          },
          "metadata": {}
        }
      ]
    },
    {
      "cell_type": "code",
      "source": [
        "import numpy as np\n",
        "\n",
        "# Get the last epoch accuracy for each subset (for both training and validation)\n",
        "final_train_accuracies = [history.history['accuracy'][-1] for history in [history1, history2, history3, history4]]\n",
        "final_val_accuracies = [history.history['val_accuracy'][-1] for history in [history1, history2, history3, history4]]\n",
        "\n",
        "# Calculate the total average accuracy\n",
        "total_train_accuracy = np.mean(final_train_accuracies)\n",
        "total_val_accuracy = np.mean(final_val_accuracies)\n",
        "\n",
        "print(f\"Total Training Accuracy: {total_train_accuracy * 100:.2f}%\")\n",
        "print(f\"Total Validation Accuracy: {total_val_accuracy * 100:.2f}%\")\n"
      ],
      "metadata": {
        "colab": {
          "base_uri": "https://localhost:8080/"
        },
        "id": "EJ9J38GqUVZH",
        "outputId": "00da9e4e-5d94-4e5d-f411-cc4d2de074e1"
      },
      "execution_count": 28,
      "outputs": [
        {
          "output_type": "stream",
          "name": "stdout",
          "text": [
            "Total Training Accuracy: 81.10%\n",
            "Total Validation Accuracy: 43.98%\n"
          ]
        }
      ]
    },
    {
      "cell_type": "code",
      "source": [
        "# Evaluate the model on the final test dataset\n",
        "test_loss, test_accuracy = model.evaluate(X_test_final, y_test_final, verbose=1)\n",
        "\n",
        "print(f\"Test Accuracy: {test_accuracy * 100:.2f}%\")\n"
      ],
      "metadata": {
        "colab": {
          "base_uri": "https://localhost:8080/"
        },
        "id": "UFLcBZLXVmnE",
        "outputId": "5884570b-c001-4e2f-89fa-f05feca9fe5f"
      },
      "execution_count": 29,
      "outputs": [
        {
          "output_type": "stream",
          "name": "stdout",
          "text": [
            "\u001b[1m500/500\u001b[0m \u001b[32m━━━━━━━━━━━━━━━━━━━━\u001b[0m\u001b[37m\u001b[0m \u001b[1m61s\u001b[0m 121ms/step - accuracy: 0.4297 - loss: 1.5999\n",
            "Test Accuracy: 42.44%\n"
          ]
        }
      ]
    },
    {
      "cell_type": "code",
      "source": [
        "print(all_train_accuracies)"
      ],
      "metadata": {
        "colab": {
          "base_uri": "https://localhost:8080/"
        },
        "id": "e8i9lxpBTghZ",
        "outputId": "a3974aa1-363c-4257-a123-9c5d10d01587"
      },
      "execution_count": 18,
      "outputs": [
        {
          "output_type": "stream",
          "name": "stdout",
          "text": [
            "[[0.320250004529953, 0.5141249895095825], [0.4704166650772095, 0.6179583072662354], [0.7620833516120911, 0.8665833473205566], [0.721750020980835, 0.8705000281333923]]\n"
          ]
        }
      ]
    },
    {
      "cell_type": "code",
      "source": [
        "print(average_val_accuracy)"
      ],
      "metadata": {
        "colab": {
          "base_uri": "https://localhost:8080/"
        },
        "id": "pMk9aD8UTJfr",
        "outputId": "1c8c81e4-5fc5-4ef0-feaf-ee4514c7d44d"
      },
      "execution_count": 16,
      "outputs": [
        {
          "output_type": "stream",
          "name": "stdout",
          "text": [
            "[0.45275    0.45271874]\n"
          ]
        }
      ]
    },
    {
      "cell_type": "code",
      "source": [
        "print(average_train_accuracy)"
      ],
      "metadata": {
        "colab": {
          "base_uri": "https://localhost:8080/"
        },
        "id": "fC19zKZQTPnL",
        "outputId": "7bfda855-4163-4c27-9692-c2ee0ad8fe2c"
      },
      "execution_count": 17,
      "outputs": [
        {
          "output_type": "stream",
          "name": "stdout",
          "text": [
            "[0.56862501 0.71729167]\n"
          ]
        }
      ]
    }
  ]
}