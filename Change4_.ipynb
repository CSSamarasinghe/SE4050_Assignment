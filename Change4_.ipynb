{
  "nbformat": 4,
  "nbformat_minor": 0,
  "metadata": {
    "colab": {
      "provenance": [],
      "authorship_tag": "ABX9TyOVvGhaxh3b8h1njL2zoxql",
      "include_colab_link": true
    },
    "kernelspec": {
      "name": "python3",
      "display_name": "Python 3"
    },
    "language_info": {
      "name": "python"
    }
  },
  "cells": [
    {
      "cell_type": "markdown",
      "metadata": {
        "id": "view-in-github",
        "colab_type": "text"
      },
      "source": [
        "<a href=\"https://colab.research.google.com/github/CSSamarasinghe/SE4050_Assignment/blob/IT21263194/Change4_.ipynb\" target=\"_parent\"><img src=\"https://colab.research.google.com/assets/colab-badge.svg\" alt=\"Open In Colab\"/></a>"
      ]
    },
    {
      "cell_type": "code",
      "execution_count": 1,
      "metadata": {
        "id": "Mvfvg-v_Cj59"
      },
      "outputs": [],
      "source": [
        "import torch\n",
        "import torch.nn as nn\n",
        "import torch.optim as optim\n",
        "from tensorflow.keras.datasets import imdb\n",
        "from tensorflow.keras.preprocessing.sequence import pad_sequences\n",
        "import matplotlib.pyplot as plt\n"
      ]
    },
    {
      "cell_type": "code",
      "source": [
        "# Load the IMDB dataset with num_words=10000\n",
        "num_words = 10000\n",
        "(X_train, y_train), (X_test, y_test) = imdb.load_data(num_words=num_words)\n",
        "\n",
        "# Set a maximum length for reviews (e.g., 200 words)\n",
        "maxlen = 200\n",
        "\n",
        "# Pad sequences so that they all have the same length\n",
        "X_train = pad_sequences(X_train, maxlen=maxlen)\n",
        "X_test = pad_sequences(X_test, maxlen=maxlen)\n",
        "\n",
        "# Display the shape of training and testing data\n",
        "print(f\"Training entries: {len(X_train)}, labels: {len(y_train)}\")\n",
        "print(f\"Test entries: {len(X_test)}, labels: {len(y_test)}\")\n"
      ],
      "metadata": {
        "colab": {
          "base_uri": "https://localhost:8080/"
        },
        "id": "IUSaLATZEh_q",
        "outputId": "884aedcc-576a-4e76-dd4e-854366c658c1"
      },
      "execution_count": 3,
      "outputs": [
        {
          "output_type": "stream",
          "name": "stdout",
          "text": [
            "Downloading data from https://storage.googleapis.com/tensorflow/tf-keras-datasets/imdb.npz\n",
            "\u001b[1m17464789/17464789\u001b[0m \u001b[32m━━━━━━━━━━━━━━━━━━━━\u001b[0m\u001b[37m\u001b[0m \u001b[1m0s\u001b[0m 0us/step\n",
            "Training entries: 25000, labels: 25000\n",
            "Test entries: 25000, labels: 25000\n"
          ]
        }
      ]
    },
    {
      "cell_type": "code",
      "source": [
        "# Convert data to PyTorch tensors\n",
        "X_train = torch.tensor(X_train, dtype=torch.long)\n",
        "y_train = torch.tensor(y_train, dtype=torch.float32)\n",
        "X_test = torch.tensor(X_test, dtype=torch.long)\n",
        "y_test = torch.tensor(y_test, dtype=torch.float32)\n"
      ],
      "metadata": {
        "id": "mX5msmvMFGU4"
      },
      "execution_count": 4,
      "outputs": []
    },
    {
      "cell_type": "code",
      "source": [
        "from torch.utils.data import TensorDataset, DataLoader\n",
        "\n",
        "# Create TensorDataset objects\n",
        "train_data = TensorDataset(X_train, y_train)\n",
        "test_data = TensorDataset(X_test, y_test)\n",
        "\n",
        "# Create DataLoader objects\n",
        "batch_size = 64\n",
        "train_loader = DataLoader(train_data, batch_size=batch_size, shuffle=True)\n",
        "test_loader = DataLoader(test_data, batch_size=batch_size)\n"
      ],
      "metadata": {
        "id": "9JkP4FnoFQ4P"
      },
      "execution_count": 5,
      "outputs": []
    },
    {
      "cell_type": "code",
      "source": [
        "import gensim.downloader as api\n",
        "\n",
        "# Download and load a small pre-trained model directly from Gensim\n",
        "word_vectors = api.load('glove-wiki-gigaword-50')  # Example using a small GloVe model (50d)\n",
        "\n",
        "# Check word embedding for a sample word\n",
        "print(word_vectors['king'])\n"
      ],
      "metadata": {
        "id": "tH6z49fuNbO1",
        "outputId": "e7c6f5dd-eb8c-4992-d8c9-527050e00d1e",
        "colab": {
          "base_uri": "https://localhost:8080/"
        }
      },
      "execution_count": 6,
      "outputs": [
        {
          "output_type": "stream",
          "name": "stdout",
          "text": [
            "[==================================================] 100.0% 66.0/66.0MB downloaded\n",
            "[ 0.50451   0.68607  -0.59517  -0.022801  0.60046  -0.13498  -0.08813\n",
            "  0.47377  -0.61798  -0.31012  -0.076666  1.493    -0.034189 -0.98173\n",
            "  0.68229   0.81722  -0.51874  -0.31503  -0.55809   0.66421   0.1961\n",
            " -0.13495  -0.11476  -0.30344   0.41177  -2.223    -1.0756   -1.0783\n",
            " -0.34354   0.33505   1.9927   -0.04234  -0.64319   0.71125   0.49159\n",
            "  0.16754   0.34344  -0.25663  -0.8523    0.1661    0.40102   1.1685\n",
            " -1.0137   -0.21585  -0.15155   0.78321  -0.91241  -1.6106   -0.64426\n",
            " -0.51042 ]\n"
          ]
        }
      ]
    },
    {
      "cell_type": "code",
      "source": [
        "\n",
        "# Create an embedding matrix for the IMDB dataset using the pretrained GloVe embeddings\n",
        "embedding_dim = 50  # Since we're using GloVe 50d\n",
        "vocab_size = num_words\n",
        "\n",
        "embedding_matrix = torch.zeros((vocab_size, embedding_dim))\n",
        "for word, index in imdb.get_word_index().items():\n",
        "    if index < vocab_size:  # Ensure that we're within the vocab size limit\n",
        "        try:\n",
        "            embedding_vector = word_vectors[word]\n",
        "            embedding_matrix[index] = torch.tensor(embedding_vector)\n",
        "        except KeyError:\n",
        "            pass  # If word not found in GloVe, we keep it as zeros"
      ],
      "metadata": {
        "id": "voF-vrT7OrPL",
        "outputId": "eb91ecd5-e606-42ce-bd19-6b8b9fb247a7",
        "colab": {
          "base_uri": "https://localhost:8080/"
        }
      },
      "execution_count": 7,
      "outputs": [
        {
          "output_type": "stream",
          "name": "stdout",
          "text": [
            "Downloading data from https://storage.googleapis.com/tensorflow/tf-keras-datasets/imdb_word_index.json\n",
            "\u001b[1m1641221/1641221\u001b[0m \u001b[32m━━━━━━━━━━━━━━━━━━━━\u001b[0m\u001b[37m\u001b[0m \u001b[1m0s\u001b[0m 0us/step\n"
          ]
        }
      ]
    },
    {
      "cell_type": "code",
      "source": [
        "class MultiLSTM(nn.Module):\n",
        "    def __init__(self, vocab_size, embed_size, hidden_sizes, output_size, dropout, pretrained_embeddings):\n",
        "        super(MultiLSTM, self).__init__()\n",
        "\n",
        "        # Embedding layer with pretrained embeddings\n",
        "        self.embedding = nn.Embedding.from_pretrained(pretrained_embeddings, freeze=False)\n",
        "\n",
        "        # Define multiple LSTM layers\n",
        "        self.lstm1 = nn.LSTM(embed_size, hidden_sizes[0], batch_first=True)\n",
        "        self.lstm2 = nn.LSTM(hidden_sizes[0], hidden_sizes[1], batch_first=True)\n",
        "        self.lstm3 = nn.LSTM(hidden_sizes[1], hidden_sizes[2], batch_first=True)\n",
        "\n",
        "        # Define dropout\n",
        "        self.dropout = nn.Dropout(dropout)\n",
        "\n",
        "        # Fully connected layer\n",
        "        self.fc = nn.Linear(hidden_sizes[2], output_size)\n",
        "\n",
        "        # Sigmoid activation for the final output\n",
        "        self.sigmoid = nn.Sigmoid()\n",
        "\n",
        "    def forward(self, x):\n",
        "        # Pass input through embedding layer\n",
        "        embeds = self.embedding(x)\n",
        "\n",
        "        # First LSTM layer with tanh activation on output\n",
        "        lstm_out1, (h_n1, c_n1) = self.lstm1(embeds)\n",
        "        lstm_out1_activated = torch.tanh(lstm_out1)\n",
        "\n",
        "        # Second LSTM layer with relu activation on output\n",
        "        lstm_out2, (h_n2, c_n2) = self.lstm2(lstm_out1_activated)\n",
        "        lstm_out2_activated = torch.relu(lstm_out2)\n",
        "\n",
        "        # Third LSTM layer with sigmoid activation on output\n",
        "        lstm_out3, (h_n3, c_n3) = self.lstm3(lstm_out2_activated)\n",
        "        lstm_out3_activated = torch.sigmoid(lstm_out3)\n",
        "\n",
        "        # Apply dropout to the output of the last LSTM cell\n",
        "        out = self.dropout(lstm_out3_activated[:, -1, :])\n",
        "\n",
        "        # Pass through fully connected layer\n",
        "        out = self.fc(out)\n",
        "\n",
        "        # Apply sigmoid activation to get the final output\n",
        "        return self.sigmoid(out)\n",
        "\n",
        "# Model hyperparameters\n",
        "embed_size = 50  # GloVe embedding size (50d)\n",
        "hidden_sizes = [128, 64, 32]  # Hidden sizes for each LSTM layer\n",
        "output_size = 1  # Binary classification\n",
        "dropout = 0.5"
      ],
      "metadata": {
        "id": "WtJBeYApFkLO"
      },
      "execution_count": 8,
      "outputs": []
    },
    {
      "cell_type": "code",
      "source": [
        "\n",
        "# Instantiate the model with pretrained embeddings\n",
        "model = MultiLSTM(vocab_size, embed_size, hidden_sizes, output_size, dropout, embedding_matrix)\n"
      ],
      "metadata": {
        "id": "lUxeiGoOKiEj"
      },
      "execution_count": 9,
      "outputs": []
    },
    {
      "cell_type": "code",
      "source": [
        "\n",
        "# Define the loss function and optimizer\n",
        "criterion = nn.BCELoss()  # Binary Cross-Entropy Loss\n",
        "optimizer = optim.Adam(model.parameters(), lr=0.001)"
      ],
      "metadata": {
        "id": "QZ82QGFVKkzZ"
      },
      "execution_count": 10,
      "outputs": []
    },
    {
      "cell_type": "code",
      "source": [
        "# Training and evaluation setup\n",
        "def train_model(model, train_loader, criterion, optimizer, num_epochs=5):\n",
        "    model.train()  # Set model to training mode\n",
        "    train_losses = []\n",
        "\n",
        "    for epoch in range(num_epochs):\n",
        "        total_loss = 0\n",
        "        for X_batch, y_batch in train_loader:\n",
        "            optimizer.zero_grad()  # Clear gradients\n",
        "\n",
        "            # Forward pass\n",
        "            outputs = model(X_batch).squeeze(1)\n",
        "\n",
        "            # Compute loss\n",
        "            loss = criterion(outputs, y_batch)\n",
        "\n",
        "            # Backward pass and optimization\n",
        "            loss.backward()\n",
        "            optimizer.step()\n",
        "\n",
        "            total_loss += loss.item()\n",
        "\n",
        "        avg_loss = total_loss / len(train_loader)\n",
        "        train_losses.append(avg_loss)\n",
        "        print(f\"Epoch [{epoch+1}/{num_epochs}], Loss: {avg_loss:.4f}\")\n",
        "\n",
        "    return train_losses"
      ],
      "metadata": {
        "id": "NTvCLbjlTB3q"
      },
      "execution_count": 11,
      "outputs": []
    },
    {
      "cell_type": "code",
      "source": [
        "\n",
        "def evaluate_model(model, test_loader):\n",
        "    model.eval()  # Set model to evaluation mode\n",
        "    correct = 0\n",
        "    total = 0\n",
        "\n",
        "    with torch.no_grad():  # Disable gradient calculation\n",
        "        for X_batch, y_batch in test_loader:\n",
        "            outputs = model(X_batch).squeeze(1)\n",
        "            predicted = (outputs > 0.5).float()\n",
        "            correct += (predicted == y_batch).sum().item()\n",
        "            total += y_batch.size(0)\n",
        "\n",
        "    accuracy = correct / total\n",
        "    print(f\"Test Accuracy: {accuracy:.4f}\")\n",
        "    return accuracy"
      ],
      "metadata": {
        "id": "8_wWl2xbTYMP"
      },
      "execution_count": 12,
      "outputs": []
    },
    {
      "cell_type": "code",
      "source": [
        "# Hyperparameters\n",
        "vocab_size = 10000  # For IMDB dataset, we use 10,000 most common words\n",
        "embed_size = 50  # Embedding size (matches the size of our pretrained embeddings)\n",
        "hidden_sizes = [128, 64, 32]  # Hidden layer sizes for each LSTM layer\n",
        "output_size = 1  # Binary classification\n",
        "dropout = 0.5  # Dropout rate\n",
        "\n",
        "# Load pre-trained embeddings (replace this with actual embeddings)\n",
        "# Assuming `embedding_matrix` contains your pretrained embeddings\n",
        "# Example: embedding_matrix = torch.randn(vocab_size, embed_size)\n",
        "embedding_matrix = torch.randn(vocab_size, embed_size)\n",
        "\n",
        "# Instantiate the model\n",
        "model = MultiLSTM(vocab_size, embed_size, hidden_sizes, output_size, dropout, embedding_matrix)\n",
        "\n",
        "# Loss function and optimizer\n",
        "criterion = nn.BCELoss()  # Binary Cross-Entropy Loss\n",
        "optimizer = optim.Adam(model.parameters(), lr=0.001)\n",
        "\n",
        "# Data preparation (you can load your dataset here)\n",
        "# Assume `X_train`, `y_train`, `X_test`, and `y_test` have been prepared\n",
        "\n",
        "batch_size = 64\n",
        "train_data = TensorDataset(X_train, y_train)\n",
        "test_data = TensorDataset(X_test, y_test)\n",
        "\n",
        "# Create DataLoader objects\n",
        "train_loader = DataLoader(train_data, batch_size=batch_size, shuffle=True)\n",
        "test_loader = DataLoader(test_data, batch_size=batch_size)\n",
        "\n",
        "# Train the model\n",
        "num_epochs = 5\n",
        "train_losses = train_model(model, train_loader, criterion, optimizer, num_epochs)"
      ],
      "metadata": {
        "id": "STJyr6y4TwHn",
        "outputId": "45341ccb-670f-4eb2-a892-c69845dd434d",
        "colab": {
          "base_uri": "https://localhost:8080/"
        }
      },
      "execution_count": 13,
      "outputs": [
        {
          "output_type": "stream",
          "name": "stdout",
          "text": [
            "Epoch [1/5], Loss: 0.6948\n",
            "Epoch [2/5], Loss: 0.6942\n",
            "Epoch [3/5], Loss: 0.6824\n",
            "Epoch [4/5], Loss: 0.6283\n",
            "Epoch [5/5], Loss: 0.5404\n"
          ]
        }
      ]
    },
    {
      "cell_type": "code",
      "source": [
        "# Evaluate the model\n",
        "test_accuracy = evaluate_model(model, test_loader)\n",
        "\n",
        "# Plot training loss over epochs\n",
        "plt.plot(range(1, num_epochs+1), train_losses, label='Training Loss')\n",
        "plt.title('Training Loss Over Epochs')\n",
        "plt.xlabel('Epoch')\n",
        "plt.ylabel('Loss')\n",
        "plt.legend()\n",
        "plt.show()"
      ],
      "metadata": {
        "id": "EAf0FVD8XjbT",
        "outputId": "063cc4b1-f4e8-4c9c-a223-33f1e775a057",
        "colab": {
          "base_uri": "https://localhost:8080/",
          "height": 490
        }
      },
      "execution_count": 14,
      "outputs": [
        {
          "output_type": "stream",
          "name": "stdout",
          "text": [
            "Test Accuracy: 0.7501\n"
          ]
        },
        {
          "output_type": "display_data",
          "data": {
            "text/plain": [
              "<Figure size 640x480 with 1 Axes>"
            ],
            "image/png": "[encoded data removed]"
          },
          "metadata": {}
        }
      ]
    }
  ]
}