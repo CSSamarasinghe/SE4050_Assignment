{
  "nbformat": 4,
  "nbformat_minor": 0,
  "metadata": {
    "colab": {
      "provenance": [],
      "gpuType": "T4",
      "include_colab_link": true
    },
    "kernelspec": {
      "name": "python3",
      "display_name": "Python 3"
    },
    "language_info": {
      "name": "python"
    },
    "accelerator": "GPU"
  },
  "cells": [
    {
      "cell_type": "markdown",
      "metadata": {
        "id": "view-in-github",
        "colab_type": "text"
      },
      "source": [
        "<a href=\"https://colab.research.google.com/github/CSSamarasinghe/SE4050_Assignment/blob/IT21222740/Final_Training_for_GRU_without_GLOVE_54_testing_accuracy.ipynb\" target=\"_parent\"><img src=\"https://colab.research.google.com/assets/colab-badge.svg\" alt=\"Open In Colab\"/></a>"
      ]
    },
    {
      "cell_type": "markdown",
      "source": [
        "#Download and Imports"
      ],
      "metadata": {
        "id": "y9D0iSsmsCm8"
      }
    },
    {
      "cell_type": "code",
      "execution_count": 1,
      "metadata": {
        "id": "FlGHKRZTmLls"
      },
      "outputs": [],
      "source": [
        "#Download and Imports\n",
        "import pandas as pd\n",
        "import numpy as np\n",
        "from nltk.tokenize import word_tokenize\n",
        "from nltk.stem import WordNetLemmatizer\n",
        "from sklearn.model_selection import train_test_split\n",
        "from tensorflow.keras.preprocessing.text import Tokenizer\n",
        "from tensorflow.keras.preprocessing.sequence import pad_sequences\n",
        "from tensorflow.keras.models import Sequential\n",
        "from tensorflow.keras.layers import Embedding, GRU, GlobalMaxPool1D, Dense, Dropout\n",
        "from tensorflow.keras.optimizers import Adam\n",
        "from tensorflow.keras.layers import Bidirectional"
      ]
    },
    {
      "cell_type": "code",
      "source": [
        " #IMPORT YOUR KAGGLE DATA SOURCES"
      ],
      "metadata": {
        "id": "kcnzcOi5tcfX"
      },
      "execution_count": null,
      "outputs": []
    },
    {
      "cell_type": "code",
      "source": [
        "import os\n",
        "import sys\n",
        "from tempfile import NamedTemporaryFile\n",
        "from urllib.request import urlopen\n",
        "from urllib.parse import unquote, urlparse\n",
        "from urllib.error import HTTPError\n",
        "from zipfile import ZipFile\n",
        "import tarfile\n",
        "import shutil\n",
        "\n",
        "CHUNK_SIZE = 40960\n",
        "DATA_SOURCE_MAPPING = 'amazon-reviews-for-sentianalysis-finegrained-csv:https%3A%2F%2Fstorage.googleapis.com%2Fkaggle-data-sets%2F2078107%2F3499094%2Fbundle%2Farchive.zip%3FX-Goog-Algorithm%3DGOOG4-RSA-SHA256%26X-Goog-Credential%3Dgcp-kaggle-com%2540kaggle-161607.iam.gserviceaccount.com%252F20241003%252Fauto%252Fstorage%252Fgoog4_request%26X-Goog-Date%3D20241003T164549Z%26X-Goog-Expires%3D259200%26X-Goog-SignedHeaders%3Dhost%26X-Goog-Signature%3D25a30a2ad799910d48f45f67793fb1d09f31560ae3773fa14870108018fa213261ae62aeb020867952a30d8094a21359c2546a6475193ac986bc2645a191d848c7223dbd5c68600aeb8f17d5a979be9750827328816b6743cf0d74ca79e5a28878f8606f4d3cd2176678d18b8a70a20bbf9be8037aa238d4b56bd1a0ba1a8d1fb4003bbd12f51fa6d438aaa8a7e8fa90a9291e62969f7df78c34dc6a71c76fb2f1c11e2964127136ec4d5554e9f1bdd7c530f8ddf987a08dd6cb91a849e4e98a2089149d22cb00ca687688c756071af4270e392fd79699c1f4a35ca16597523ca8bfe37fea11d5911465ea51d6eb17c1e3663da806763c8ef4e96e1f0a9ae9ab'\n",
        "\n",
        "KAGGLE_INPUT_PATH='/kaggle/input'\n",
        "KAGGLE_WORKING_PATH='/kaggle/working'\n",
        "KAGGLE_SYMLINK='kaggle'\n",
        "\n",
        "!umount /kaggle/input/ 2> /dev/null\n",
        "shutil.rmtree('/kaggle/input', ignore_errors=True)\n",
        "os.makedirs(KAGGLE_INPUT_PATH, 0o777, exist_ok=True)\n",
        "os.makedirs(KAGGLE_WORKING_PATH, 0o777, exist_ok=True)\n",
        "\n",
        "try:\n",
        "  os.symlink(KAGGLE_INPUT_PATH, os.path.join(\"..\", 'input'), target_is_directory=True)\n",
        "except FileExistsError:\n",
        "  pass\n",
        "try:\n",
        "  os.symlink(KAGGLE_WORKING_PATH, os.path.join(\"..\", 'working'), target_is_directory=True)\n",
        "except FileExistsError:\n",
        "  pass\n",
        "\n",
        "for data_source_mapping in DATA_SOURCE_MAPPING.split(','):\n",
        "    directory, download_url_encoded = data_source_mapping.split(':')\n",
        "    download_url = unquote(download_url_encoded)\n",
        "    filename = urlparse(download_url).path\n",
        "    destination_path = os.path.join(KAGGLE_INPUT_PATH, directory)\n",
        "    try:\n",
        "        with urlopen(download_url) as fileres, NamedTemporaryFile() as tfile:\n",
        "            total_length = fileres.headers['content-length']\n",
        "            print(f'Downloading {directory}, {total_length} bytes compressed')\n",
        "            dl = 0\n",
        "            data = fileres.read(CHUNK_SIZE)\n",
        "            while len(data) > 0:\n",
        "                dl += len(data)\n",
        "                tfile.write(data)\n",
        "                done = int(50 * dl / int(total_length))\n",
        "                sys.stdout.write(f\"\\r[{'=' * done}{' ' * (50-done)}] {dl} bytes downloaded\")\n",
        "                sys.stdout.flush()\n",
        "                data = fileres.read(CHUNK_SIZE)\n",
        "            if filename.endswith('.zip'):\n",
        "              with ZipFile(tfile) as zfile:\n",
        "                zfile.extractall(destination_path)\n",
        "            else:\n",
        "              with tarfile.open(tfile.name) as tarfile:\n",
        "                tarfile.extractall(destination_path)\n",
        "            print(f'\\nDownloaded and uncompressed: {directory}')\n",
        "    except HTTPError as e:\n",
        "        print(f'Failed to load (likely expired) {download_url} to path {destination_path}')\n",
        "        continue\n",
        "    except OSError as e:\n",
        "        print(f'Failed to load {download_url} to path {destination_path}')\n",
        "        continue\n",
        "\n",
        "print('Data source import complete.')"
      ],
      "metadata": {
        "colab": {
          "base_uri": "https://localhost:8080/"
        },
        "id": "0LRu2OUEmOja",
        "outputId": "84ed580c-d6bb-4da0-a99a-fc40a3689b36"
      },
      "execution_count": 2,
      "outputs": [
        {
          "output_type": "stream",
          "name": "stdout",
          "text": [
            "Downloading amazon-reviews-for-sentianalysis-finegrained-csv, 654512809 bytes compressed\n",
            "[==================================================] 654512809 bytes downloaded\n",
            "Downloaded and uncompressed: amazon-reviews-for-sentianalysis-finegrained-csv\n",
            "Data source import complete.\n"
          ]
        }
      ]
    },
    {
      "cell_type": "markdown",
      "source": [
        "# Load dataset"
      ],
      "metadata": {
        "id": "Wyr-7-pWts1_"
      }
    },
    {
      "cell_type": "code",
      "source": [
        "# Load dataset\n",
        "data = pd.read_csv('../input/amazon-reviews-for-sentianalysis-finegrained-csv/amazon_review_fine-grained_5_classes_csv/train.csv')\n"
      ],
      "metadata": {
        "id": "vBJfqyuomoUH"
      },
      "execution_count": 3,
      "outputs": []
    },
    {
      "cell_type": "markdown",
      "source": [
        "## Random Sampling of Dataset"
      ],
      "metadata": {
        "id": "ui2lXupNtx9l"
      }
    },
    {
      "cell_type": "code",
      "source": [
        "# Sample 20% of the original dataset randomly while ensuring reproducibility with a fixed random seed.\n",
        "data = data.sample(frac =0.2, random_state=42)\n",
        "print(data.shape)"
      ],
      "metadata": {
        "colab": {
          "base_uri": "https://localhost:8080/"
        },
        "id": "1FZsV6TD0fh3",
        "outputId": "ff24f347-ac29-4f50-a698-9be0810eb15e"
      },
      "execution_count": 4,
      "outputs": [
        {
          "output_type": "stream",
          "name": "stdout",
          "text": [
            "(600000, 3)\n"
          ]
        }
      ]
    },
    {
      "cell_type": "markdown",
      "source": [
        "# Preprocessing the data"
      ],
      "metadata": {
        "id": "XNMM8ZOLuxSj"
      }
    },
    {
      "cell_type": "markdown",
      "source": [
        "## Initialize Lemmatizer"
      ],
      "metadata": {
        "id": "FhREYJqnu31X"
      }
    },
    {
      "cell_type": "code",
      "source": [
        "# Initialize Lemmatizer\n",
        "lemmatizer = WordNetLemmatizer()\n"
      ],
      "metadata": {
        "id": "hN_-NAismvlM"
      },
      "execution_count": 5,
      "outputs": []
    },
    {
      "cell_type": "markdown",
      "source": [
        "## Tokenization and Lemmatization function"
      ],
      "metadata": {
        "id": "-q0mVgEGu-BW"
      }
    },
    {
      "cell_type": "code",
      "source": [
        "# Tokenization and Lemmatization function\n",
        "def message_to_token_list(s, words, tokenizer):\n",
        "    tokens = tokenizer.tokenize(s)\n",
        "    lowercased_tokens = [t.lower() for t in tokens]\n",
        "    lemmatized_tokens = [lemmatizer.lemmatize(t) for t in lowercased_tokens]\n",
        "    useful_tokens = [t for t in lemmatized_tokens if t in words]\n",
        "    return useful_tokens"
      ],
      "metadata": {
        "id": "k2T22VtLmyOs"
      },
      "execution_count": 6,
      "outputs": []
    },
    {
      "cell_type": "markdown",
      "source": [
        "## Tokenize the reviews"
      ],
      "metadata": {
        "id": "cdAjyHk_vB5S"
      }
    },
    {
      "cell_type": "code",
      "source": [
        "# Tokenize the reviews\n",
        "tokenizer = Tokenizer()\n",
        "tokenizer.fit_on_texts(data['review_text'])\n",
        "sequences = tokenizer.texts_to_sequences(data['review_text'])"
      ],
      "metadata": {
        "id": "tPyRm6nmm0PY"
      },
      "execution_count": 7,
      "outputs": []
    },
    {
      "cell_type": "markdown",
      "source": [
        "## Padding sequences"
      ],
      "metadata": {
        "id": "bQtjgFoCvGMb"
      }
    },
    {
      "cell_type": "code",
      "source": [
        "# Padding sequences\n",
        "padded_sequences = pad_sequences(sequences, padding='post')"
      ],
      "metadata": {
        "id": "fsOkvXqym2st"
      },
      "execution_count": 8,
      "outputs": []
    },
    {
      "cell_type": "markdown",
      "source": [
        "## Get labels"
      ],
      "metadata": {
        "id": "qrpDvLetvLyo"
      }
    },
    {
      "cell_type": "code",
      "source": [
        "# Get labels\n",
        "labels = data['class_index'] - 1  # Adjust class index to be 0-based for classification"
      ],
      "metadata": {
        "id": "T4fy11Bvm5Uj"
      },
      "execution_count": 9,
      "outputs": []
    },
    {
      "cell_type": "markdown",
      "source": [
        "## Splitting dataset"
      ],
      "metadata": {
        "id": "TCVK_GnNvjPu"
      }
    },
    {
      "cell_type": "code",
      "source": [
        "from sklearn.model_selection import train_test_split\n",
        "#splitting dataset\n",
        "X_train_val, X_test, y_train_val, y_test = train_test_split(padded_sequences, labels, test_size=0.2, random_state=42)\n",
        "\n"
      ],
      "metadata": {
        "id": "IjeFLTXVbvdh"
      },
      "execution_count": 10,
      "outputs": []
    },
    {
      "cell_type": "markdown",
      "source": [
        "## Print the shapes"
      ],
      "metadata": {
        "id": "lH1BWF3dvl-O"
      }
    },
    {
      "cell_type": "code",
      "source": [
        "print(X_train_val.shape)\n",
        "print(X_test.shape)\n",
        "print(y_train_val.shape)\n",
        "print(y_test.shape)"
      ],
      "metadata": {
        "colab": {
          "base_uri": "https://localhost:8080/"
        },
        "id": "R6ZqiMIEmL-Z",
        "outputId": "178ae864-0e6c-4805-d625-5b9c5f06f64b"
      },
      "execution_count": 11,
      "outputs": [
        {
          "output_type": "stream",
          "name": "stdout",
          "text": [
            "(480000, 224)\n",
            "(120000, 224)\n",
            "(480000,)\n",
            "(120000,)\n"
          ]
        }
      ]
    },
    {
      "cell_type": "markdown",
      "source": [
        "\n",
        "## Split X_train and y_train into two separate training datasets"
      ],
      "metadata": {
        "id": "vH2MaEokv54K"
      }
    },
    {
      "cell_type": "code",
      "source": [
        "# Split X_train and y_train into two separate training datasets\n",
        "X_train_1, X_train_2, y_train_1, y_train_2 = train_test_split(X_train_val, y_train_val, test_size=0.5, random_state=42, stratify=y_train_val)"
      ],
      "metadata": {
        "id": "1aBgYPMqlJQo"
      },
      "execution_count": 12,
      "outputs": []
    },
    {
      "cell_type": "markdown",
      "source": [
        "## Split Dataset again to train easy"
      ],
      "metadata": {
        "id": "FOOKTWBIv_F5"
      }
    },
    {
      "cell_type": "code",
      "source": [
        "X_train_first, X_train_second, y_train_first, y_train_second = train_test_split(X_train_1, y_train_1, test_size=0.5, random_state=42, stratify=y_train_1)\n",
        "X_train_third, X_train_fourth, y_train_third, y_train_fourth = train_test_split(X_train_2, y_train_2, test_size=0.5, random_state=42, stratify=y_train_2)\n",
        "# Output the shapes to verify the split\n",
        "print(\"X_train_1 shape:\", X_train_1.shape)\n",
        "print(\"y_train_1 shape:\", y_train_1.shape)\n",
        "print(\"X_train_2 shape:\", X_train_2.shape)\n",
        "print(\"y_train_2 shape:\", y_train_2.shape)\n"
      ],
      "metadata": {
        "colab": {
          "base_uri": "https://localhost:8080/"
        },
        "id": "2LJbHG-PtfBh",
        "outputId": "d0e711eb-3163-49a3-9760-29ca747089bc"
      },
      "execution_count": 13,
      "outputs": [
        {
          "output_type": "stream",
          "name": "stdout",
          "text": [
            "X_train_1 shape: (240000, 224)\n",
            "y_train_1 shape: (240000,)\n",
            "X_train_2 shape: (240000, 224)\n",
            "y_train_2 shape: (240000,)\n"
          ]
        }
      ]
    },
    {
      "cell_type": "markdown",
      "source": [
        "## Split Dataset for validation and testing"
      ],
      "metadata": {
        "id": "jjIaiWIywJNR"
      }
    },
    {
      "cell_type": "code",
      "source": [
        "X_test, X_val, y_test, y_val = train_test_split(X_test, y_test, test_size=0.2, random_state=42, stratify=y_test)"
      ],
      "metadata": {
        "id": "Fo5XvEfJt00-"
      },
      "execution_count": 14,
      "outputs": []
    },
    {
      "cell_type": "markdown",
      "source": [
        "# Buiding and Training Model"
      ],
      "metadata": {
        "id": "GxtRXHcHwWP5"
      }
    },
    {
      "cell_type": "markdown",
      "source": [
        "## Model Definition"
      ],
      "metadata": {
        "id": "nbm7OP2ZwbTZ"
      }
    },
    {
      "cell_type": "markdown",
      "source": [
        "#### This model is designed for multi-class text classification using a Bidirectional GRU architecture:\n",
        "\n",
        "##### Input Shape: Handles sequences based on X_train_first.shape.\n",
        "\n",
        "##### Embedding Layer: Transforms input words into dense vectors of size 200 using a trainable embedding matrix.\n",
        "\n",
        "##### GRU Layer: Utilizes a Bidirectional GRU with 64 units, capturing context in both directions.\n",
        "##### Dropout Layers: Applied after the GRU and before the output to prevent overfitting (50% dropout rate).\n",
        "##### Global Max Pooling: Reduces dimensionality by summarizing significant features.\n",
        "##### Output Layer: A Dense layer with softmax activation for classifying into 5 ratings (1 to 5).\n",
        "##### Compilation: Uses sparse categorical crossentropy loss and Adam optimizer, tracking accuracy."
      ],
      "metadata": {
        "id": "lqkNTBTow9S5"
      }
    },
    {
      "cell_type": "code",
      "source": [
        "\n",
        "# Define the  model\n",
        "sequence_length = X_train_first.shape\n",
        "embedding_dim = 200  #embedding dimension\n",
        "vocab_size = len(tokenizer.word_index) + 1  # Vocabulary size\n",
        "embedding_matrix = np.zeros((vocab_size, embedding_dim))\n",
        "\n",
        "# Build the model\n",
        "model = Sequential()\n",
        "\n",
        "# Embedding layer\n",
        "model.add(Embedding(input_dim=vocab_size,\n",
        "                    output_dim=embedding_dim,\n",
        "                    input_length= sequence_length,\n",
        "                    weights=[embedding_matrix],\n",
        "                    trainable=True))\n",
        "\n",
        "# GRU layer with return_sequences=True for compatibility with pooling\n",
        "model.add(Bidirectional(GRU(64, return_sequences=True)))\n",
        "\n",
        "# Dropout after GRU layer\n",
        "model.add(Dropout(0.5))  # after GRU\n",
        "\n",
        "# Global Max Pooling layer for dimensionality reduction\n",
        "model.add(GlobalMaxPool1D())\n",
        "\n",
        "# Dropout to prevent overfitting\n",
        "model.add(Dropout(0.5))\n",
        "\n",
        "# Output layer for classification into 5 classes (rating from 1 to 5)\n",
        "model.add(Dense(5, activation='softmax'))\n",
        "\n",
        "# Compile the model\n",
        "model.compile(loss='sparse_categorical_crossentropy',\n",
        "              optimizer=Adam(learning_rate=0.001),\n",
        "              metrics=['accuracy'])\n",
        "\n",
        "# Model summary\n",
        "model.summary()\n"
      ],
      "metadata": {
        "colab": {
          "base_uri": "https://localhost:8080/",
          "height": 412
        },
        "id": "JbAU_pLinHDQ",
        "outputId": "d8040cee-cce1-4fb2-a104-653d04cc6ff6"
      },
      "execution_count": 15,
      "outputs": [
        {
          "output_type": "stream",
          "name": "stderr",
          "text": [
            "/usr/local/lib/python3.10/dist-packages/keras/src/layers/core/embedding.py:90: UserWarning: Argument `input_length` is deprecated. Just remove it.\n",
            "  warnings.warn(\n"
          ]
        },
        {
          "output_type": "display_data",
          "data": {
            "text/plain": [
              "\u001b[1mModel: \"sequential\"\u001b[0m\n"
            ],
            "text/html": [
              "<pre style=\"white-space:pre;overflow-x:auto;line-height:normal;font-family:Menlo,'DejaVu Sans Mono',consolas,'Courier New',monospace\"><span style=\"font-weight: bold\">Model: \"sequential\"</span>\n",
              "</pre>\n"
            ]
          },
          "metadata": {}
        },
        {
          "output_type": "display_data",
          "data": {
            "text/plain": [
              "┏━━━━━━━━━━━━━━━━━━━━━━━━━━━━━━━━━━━━━━┳━━━━━━━━━━━━━━━━━━━━━━━━━━━━━┳━━━━━━━━━━━━━━━━━┓\n",
              "┃\u001b[1m \u001b[0m\u001b[1mLayer (type)                        \u001b[0m\u001b[1m \u001b[0m┃\u001b[1m \u001b[0m\u001b[1mOutput Shape               \u001b[0m\u001b[1m \u001b[0m┃\u001b[1m \u001b[0m\u001b[1m        Param #\u001b[0m\u001b[1m \u001b[0m┃\n",
              "┡━━━━━━━━━━━━━━━━━━━━━━━━━━━━━━━━━━━━━━╇━━━━━━━━━━━━━━━━━━━━━━━━━━━━━╇━━━━━━━━━━━━━━━━━┩\n",
              "│ embedding (\u001b[38;5;33mEmbedding\u001b[0m)                │ ?                           │      \u001b[38;5;34m71,846,000\u001b[0m │\n",
              "├──────────────────────────────────────┼─────────────────────────────┼─────────────────┤\n",
              "│ bidirectional (\u001b[38;5;33mBidirectional\u001b[0m)        │ ?                           │     \u001b[38;5;34m0\u001b[0m (unbuilt) │\n",
              "├──────────────────────────────────────┼─────────────────────────────┼─────────────────┤\n",
              "│ dropout (\u001b[38;5;33mDropout\u001b[0m)                    │ ?                           │     \u001b[38;5;34m0\u001b[0m (unbuilt) │\n",
              "├──────────────────────────────────────┼─────────────────────────────┼─────────────────┤\n",
              "│ global_max_pooling1d                 │ ?                           │     \u001b[38;5;34m0\u001b[0m (unbuilt) │\n",
              "│ (\u001b[38;5;33mGlobalMaxPooling1D\u001b[0m)                 │                             │                 │\n",
              "├──────────────────────────────────────┼─────────────────────────────┼─────────────────┤\n",
              "│ dropout_1 (\u001b[38;5;33mDropout\u001b[0m)                  │ ?                           │     \u001b[38;5;34m0\u001b[0m (unbuilt) │\n",
              "├──────────────────────────────────────┼─────────────────────────────┼─────────────────┤\n",
              "│ dense (\u001b[38;5;33mDense\u001b[0m)                        │ ?                           │     \u001b[38;5;34m0\u001b[0m (unbuilt) │\n",
              "└──────────────────────────────────────┴─────────────────────────────┴─────────────────┘\n"
            ],
            "text/html": [
              "<pre style=\"white-space:pre;overflow-x:auto;line-height:normal;font-family:Menlo,'DejaVu Sans Mono',consolas,'Courier New',monospace\">┏━━━━━━━━━━━━━━━━━━━━━━━━━━━━━━━━━━━━━━┳━━━━━━━━━━━━━━━━━━━━━━━━━━━━━┳━━━━━━━━━━━━━━━━━┓\n",
              "┃<span style=\"font-weight: bold\"> Layer (type)                         </span>┃<span style=\"font-weight: bold\"> Output Shape                </span>┃<span style=\"font-weight: bold\">         Param # </span>┃\n",
              "┡━━━━━━━━━━━━━━━━━━━━━━━━━━━━━━━━━━━━━━╇━━━━━━━━━━━━━━━━━━━━━━━━━━━━━╇━━━━━━━━━━━━━━━━━┩\n",
              "│ embedding (<span style=\"color: #0087ff; text-decoration-color: #0087ff\">Embedding</span>)                │ ?                           │      <span style=\"color: #00af00; text-decoration-color: #00af00\">71,846,000</span> │\n",
              "├──────────────────────────────────────┼─────────────────────────────┼─────────────────┤\n",
              "│ bidirectional (<span style=\"color: #0087ff; text-decoration-color: #0087ff\">Bidirectional</span>)        │ ?                           │     <span style=\"color: #00af00; text-decoration-color: #00af00\">0</span> (unbuilt) │\n",
              "├──────────────────────────────────────┼─────────────────────────────┼─────────────────┤\n",
              "│ dropout (<span style=\"color: #0087ff; text-decoration-color: #0087ff\">Dropout</span>)                    │ ?                           │     <span style=\"color: #00af00; text-decoration-color: #00af00\">0</span> (unbuilt) │\n",
              "├──────────────────────────────────────┼─────────────────────────────┼─────────────────┤\n",
              "│ global_max_pooling1d                 │ ?                           │     <span style=\"color: #00af00; text-decoration-color: #00af00\">0</span> (unbuilt) │\n",
              "│ (<span style=\"color: #0087ff; text-decoration-color: #0087ff\">GlobalMaxPooling1D</span>)                 │                             │                 │\n",
              "├──────────────────────────────────────┼─────────────────────────────┼─────────────────┤\n",
              "│ dropout_1 (<span style=\"color: #0087ff; text-decoration-color: #0087ff\">Dropout</span>)                  │ ?                           │     <span style=\"color: #00af00; text-decoration-color: #00af00\">0</span> (unbuilt) │\n",
              "├──────────────────────────────────────┼─────────────────────────────┼─────────────────┤\n",
              "│ dense (<span style=\"color: #0087ff; text-decoration-color: #0087ff\">Dense</span>)                        │ ?                           │     <span style=\"color: #00af00; text-decoration-color: #00af00\">0</span> (unbuilt) │\n",
              "└──────────────────────────────────────┴─────────────────────────────┴─────────────────┘\n",
              "</pre>\n"
            ]
          },
          "metadata": {}
        },
        {
          "output_type": "display_data",
          "data": {
            "text/plain": [
              "\u001b[1m Total params: \u001b[0m\u001b[38;5;34m71,846,000\u001b[0m (274.07 MB)\n"
            ],
            "text/html": [
              "<pre style=\"white-space:pre;overflow-x:auto;line-height:normal;font-family:Menlo,'DejaVu Sans Mono',consolas,'Courier New',monospace\"><span style=\"font-weight: bold\"> Total params: </span><span style=\"color: #00af00; text-decoration-color: #00af00\">71,846,000</span> (274.07 MB)\n",
              "</pre>\n"
            ]
          },
          "metadata": {}
        },
        {
          "output_type": "display_data",
          "data": {
            "text/plain": [
              "\u001b[1m Trainable params: \u001b[0m\u001b[38;5;34m71,846,000\u001b[0m (274.07 MB)\n"
            ],
            "text/html": [
              "<pre style=\"white-space:pre;overflow-x:auto;line-height:normal;font-family:Menlo,'DejaVu Sans Mono',consolas,'Courier New',monospace\"><span style=\"font-weight: bold\"> Trainable params: </span><span style=\"color: #00af00; text-decoration-color: #00af00\">71,846,000</span> (274.07 MB)\n",
              "</pre>\n"
            ]
          },
          "metadata": {}
        },
        {
          "output_type": "display_data",
          "data": {
            "text/plain": [
              "\u001b[1m Non-trainable params: \u001b[0m\u001b[38;5;34m0\u001b[0m (0.00 B)\n"
            ],
            "text/html": [
              "<pre style=\"white-space:pre;overflow-x:auto;line-height:normal;font-family:Menlo,'DejaVu Sans Mono',consolas,'Courier New',monospace\"><span style=\"font-weight: bold\"> Non-trainable params: </span><span style=\"color: #00af00; text-decoration-color: #00af00\">0</span> (0.00 B)\n",
              "</pre>\n"
            ]
          },
          "metadata": {}
        }
      ]
    },
    {
      "cell_type": "markdown",
      "source": [
        "\n",
        "## Train the model"
      ],
      "metadata": {
        "id": "Oeebf4Myxsc2"
      }
    },
    {
      "cell_type": "markdown",
      "source": [
        "### 3 epochs and 256 batch size"
      ],
      "metadata": {
        "id": "XTyyL0EGx943"
      }
    },
    {
      "cell_type": "code",
      "source": [
        "\n",
        "# Train the model\n",
        "history = model.fit( X_train_first, y_train_first, validation_data=(X_val,y_val), epochs=10, batch_size=256, verbose=1)\n",
        "\n"
      ],
      "metadata": {
        "colab": {
          "base_uri": "https://localhost:8080/"
        },
        "id": "0Urm3uk6pkWS",
        "outputId": "4921ac30-8fcd-4980-aa9d-b315e7b713b7"
      },
      "execution_count": 16,
      "outputs": [
        {
          "output_type": "stream",
          "name": "stdout",
          "text": [
            "Epoch 1/10\n",
            "\u001b[1m469/469\u001b[0m \u001b[32m━━━━━━━━━━━━━━━━━━━━\u001b[0m\u001b[37m\u001b[0m \u001b[1m45s\u001b[0m 82ms/step - accuracy: 0.3660 - loss: 1.4105 - val_accuracy: 0.5050 - val_loss: 1.2074\n",
            "Epoch 2/10\n",
            "\u001b[1m469/469\u001b[0m \u001b[32m━━━━━━━━━━━━━━━━━━━━\u001b[0m\u001b[37m\u001b[0m \u001b[1m78s\u001b[0m 82ms/step - accuracy: 0.5508 - loss: 1.0542 - val_accuracy: 0.5034 - val_loss: 1.1519\n",
            "Epoch 3/10\n",
            "\u001b[1m469/469\u001b[0m \u001b[32m━━━━━━━━━━━━━━━━━━━━\u001b[0m\u001b[37m\u001b[0m \u001b[1m41s\u001b[0m 82ms/step - accuracy: 0.6396 - loss: 0.8736 - val_accuracy: 0.4975 - val_loss: 1.1592\n",
            "Epoch 4/10\n",
            "\u001b[1m469/469\u001b[0m \u001b[32m━━━━━━━━━━━━━━━━━━━━\u001b[0m\u001b[37m\u001b[0m \u001b[1m41s\u001b[0m 82ms/step - accuracy: 0.7181 - loss: 0.7081 - val_accuracy: 0.4876 - val_loss: 1.2082\n",
            "Epoch 5/10\n",
            "\u001b[1m469/469\u001b[0m \u001b[32m━━━━━━━━━━━━━━━━━━━━\u001b[0m\u001b[37m\u001b[0m \u001b[1m38s\u001b[0m 82ms/step - accuracy: 0.7826 - loss: 0.5613 - val_accuracy: 0.4757 - val_loss: 1.3151\n",
            "Epoch 6/10\n",
            "\u001b[1m469/469\u001b[0m \u001b[32m━━━━━━━━━━━━━━━━━━━━\u001b[0m\u001b[37m\u001b[0m \u001b[1m41s\u001b[0m 82ms/step - accuracy: 0.8301 - loss: 0.4441 - val_accuracy: 0.4628 - val_loss: 1.4434\n",
            "Epoch 7/10\n",
            "\u001b[1m469/469\u001b[0m \u001b[32m━━━━━━━━━━━━━━━━━━━━\u001b[0m\u001b[37m\u001b[0m \u001b[1m41s\u001b[0m 83ms/step - accuracy: 0.8647 - loss: 0.3527 - val_accuracy: 0.4565 - val_loss: 1.6118\n",
            "Epoch 8/10\n",
            "\u001b[1m469/469\u001b[0m \u001b[32m━━━━━━━━━━━━━━━━━━━━\u001b[0m\u001b[37m\u001b[0m \u001b[1m41s\u001b[0m 82ms/step - accuracy: 0.8905 - loss: 0.2890 - val_accuracy: 0.4553 - val_loss: 1.7153\n",
            "Epoch 9/10\n",
            "\u001b[1m469/469\u001b[0m \u001b[32m━━━━━━━━━━━━━━━━━━━━\u001b[0m\u001b[37m\u001b[0m \u001b[1m41s\u001b[0m 82ms/step - accuracy: 0.9076 - loss: 0.2410 - val_accuracy: 0.4484 - val_loss: 1.8367\n",
            "Epoch 10/10\n",
            "\u001b[1m469/469\u001b[0m \u001b[32m━━━━━━━━━━━━━━━━━━━━\u001b[0m\u001b[37m\u001b[0m \u001b[1m41s\u001b[0m 82ms/step - accuracy: 0.9188 - loss: 0.2105 - val_accuracy: 0.4436 - val_loss: 2.0061\n"
          ]
        }
      ]
    },
    {
      "cell_type": "code",
      "source": [
        "import matplotlib.pyplot as plt\n",
        "# Plot training & validation accuracy values for all epochs\n",
        "plt.figure(figsize=(12, 4))\n",
        "\n",
        "# Accuracy subplot\n",
        "plt.subplot(1, 2, 1)\n",
        "plt.plot(history.history['accuracy'], label='Train Accuracy')\n",
        "plt.plot(history.history['val_accuracy'], label='Validation Accuracy')\n",
        "plt.title('Model Accuracy')\n",
        "plt.ylabel('Accuracy')\n",
        "plt.xlabel('Epoch')\n",
        "plt.legend(loc='upper left')\n",
        "\n",
        "# Plot training & validation loss values for all epochs\n",
        "plt.subplot(1, 2, 2)\n",
        "plt.plot(history.history['loss'], label='Train Loss')\n",
        "plt.plot(history.history['val_loss'], label='Validation Loss')\n",
        "plt.title('Model Loss')\n",
        "plt.ylabel('Loss')\n",
        "plt.xlabel('Epoch')\n",
        "plt.legend(loc='upper left')\n",
        "\n",
        "# Show the plots\n",
        "plt.tight_layout()\n",
        "plt.show()\n"
      ],
      "metadata": {
        "colab": {
          "base_uri": "https://localhost:8080/",
          "height": 378
        },
        "id": "BVWoWzip5cAZ",
        "outputId": "e70bc07a-6af4-42f3-9601-4c5765cdde40"
      },
      "execution_count": 18,
      "outputs": [
        {
          "output_type": "display_data",
          "data": {
            "text/plain": [
              "<Figure size 1200x400 with 2 Axes>"
            ],
            "image/png": "[encoded data removed]"
          },
          "metadata": {}
        }
      ]
    },
    {
      "cell_type": "markdown",
      "source": [
        "### Inroducing new data set(2 epochs)"
      ],
      "metadata": {
        "id": "BtPDd86ZyM8z"
      }
    },
    {
      "cell_type": "code",
      "source": [
        "# Continue Train the model by introducing new data set\n",
        "history = model.fit( X_train_second, y_train_second, validation_data=(X_val,y_val), epochs=2, batch_size=256, verbose=1, initial_epoch = 1)\n",
        "\n"
      ],
      "metadata": {
        "colab": {
          "base_uri": "https://localhost:8080/"
        },
        "id": "su-cOe0qZsOi",
        "outputId": "83d6c693-9ac3-47e5-a243-445abdfa2fa0"
      },
      "execution_count": 20,
      "outputs": [
        {
          "output_type": "stream",
          "name": "stdout",
          "text": [
            "Epoch 2/2\n",
            "\u001b[1m469/469\u001b[0m \u001b[32m━━━━━━━━━━━━━━━━━━━━\u001b[0m\u001b[37m\u001b[0m \u001b[1m41s\u001b[0m 87ms/step - accuracy: 0.5711 - loss: 1.0031 - val_accuracy: 0.5104 - val_loss: 1.1247\n"
          ]
        }
      ]
    },
    {
      "cell_type": "markdown",
      "source": [
        "### Extra 2 epochs"
      ],
      "metadata": {
        "id": "IIyHoFmiylZm"
      }
    },
    {
      "cell_type": "code",
      "source": [
        "# Continue Train the model by introducing new data set\n",
        "history = model.fit( X_train_fourth, y_train_fourth, validation_data=(X_val,y_val), epochs=2, batch_size=256, verbose=1)\n",
        "\n"
      ],
      "metadata": {
        "colab": {
          "base_uri": "https://localhost:8080/"
        },
        "id": "mpkmD_VepkRP",
        "outputId": "77b0b81c-7949-4e44-9794-9a5647ddd964"
      },
      "execution_count": 21,
      "outputs": [
        {
          "output_type": "stream",
          "name": "stdout",
          "text": [
            "Epoch 1/2\n",
            "\u001b[1m469/469\u001b[0m \u001b[32m━━━━━━━━━━━━━━━━━━━━\u001b[0m\u001b[37m\u001b[0m \u001b[1m39s\u001b[0m 83ms/step - accuracy: 0.5120 - loss: 1.1343 - val_accuracy: 0.5200 - val_loss: 1.1112\n",
            "Epoch 2/2\n",
            "\u001b[1m469/469\u001b[0m \u001b[32m━━━━━━━━━━━━━━━━━━━━\u001b[0m\u001b[37m\u001b[0m \u001b[1m40s\u001b[0m 85ms/step - accuracy: 0.6140 - loss: 0.9168 - val_accuracy: 0.5163 - val_loss: 1.1090\n"
          ]
        }
      ]
    },
    {
      "cell_type": "code",
      "source": [
        "# Contnue Train the model\n",
        "history = model.fit( X_train_third, y_train_third, validation_data=(X_val,y_val), epochs=1, batch_size=256, verbose=1)\n"
      ],
      "metadata": {
        "colab": {
          "base_uri": "https://localhost:8080/"
        },
        "id": "mqRqeKIMphdw",
        "outputId": "d052b31e-c309-4ad9-e549-1e75237d718e"
      },
      "execution_count": 23,
      "outputs": [
        {
          "output_type": "stream",
          "name": "stdout",
          "text": [
            "\u001b[1m469/469\u001b[0m \u001b[32m━━━━━━━━━━━━━━━━━━━━\u001b[0m\u001b[37m\u001b[0m \u001b[1m40s\u001b[0m 86ms/step - accuracy: 0.5210 - loss: 1.1103 - val_accuracy: 0.5403 - val_loss: 1.0843\n"
          ]
        }
      ]
    },
    {
      "cell_type": "markdown",
      "source": [
        "## Testing Model"
      ],
      "metadata": {
        "id": "9U3wsB4Zy9b1"
      }
    },
    {
      "cell_type": "code",
      "source": [
        "# Evaluate the model on the test set\n",
        "test_loss, test_acc = model.evaluate(X_test, y_test)\n",
        "print(f\"Test Accuracy: {test_acc}\") #0.001 , bidirectional GRU and 3 epochs"
      ],
      "metadata": {
        "colab": {
          "base_uri": "https://localhost:8080/"
        },
        "id": "8UUXATZcz6eO",
        "outputId": "6dbcc0e1-f88d-4c00-e76c-61189dd0b473"
      },
      "execution_count": 24,
      "outputs": [
        {
          "output_type": "stream",
          "name": "stdout",
          "text": [
            "\u001b[1m3000/3000\u001b[0m \u001b[32m━━━━━━━━━━━━━━━━━━━━\u001b[0m\u001b[37m\u001b[0m \u001b[1m24s\u001b[0m 8ms/step - accuracy: 0.5423 - loss: 1.0826\n",
            "Test Accuracy: 0.5406354069709778\n"
          ]
        }
      ]
    },
    {
      "cell_type": "code",
      "source": [
        "from sklearn.metrics import classification_report, accuracy_score, f1_score, precision_score, recall_score\n",
        "\n",
        "# Predict on validation set\n",
        "y_pred = model.predict(X_val)\n",
        "y_pred_classes = y_pred.argmax(axis=1)  # Convert to class labels\n",
        "\n",
        "# Compute accuracy\n",
        "accuracy = accuracy_score(y_val, y_pred_classes)\n",
        "print(f'Accuracy: {accuracy:.4f}')\n",
        "\n",
        "# Compute F1-score, precision, and recall\n",
        "f1 = f1_score(y_val, y_pred_classes, average='weighted')\n",
        "precision = precision_score(y_val, y_pred_classes, average='weighted')\n",
        "recall = recall_score(y_val, y_pred_classes, average='weighted')\n",
        "\n",
        "print(f'F1-Score: {f1:.4f}')\n",
        "print(f'Precision: {precision:.4f}')\n",
        "print(f'Recall: {recall:.4f}')\n",
        "\n",
        "# Classification report for detailed metrics\n",
        "print(classification_report(y_val, y_pred_classes))\n"
      ],
      "metadata": {
        "colab": {
          "base_uri": "https://localhost:8080/"
        },
        "id": "fvmaGzVJUvBd",
        "outputId": "02260d14-49c4-4acb-9222-c98a7b81bd79"
      },
      "execution_count": 25,
      "outputs": [
        {
          "output_type": "stream",
          "name": "stdout",
          "text": [
            "\u001b[1m750/750\u001b[0m \u001b[32m━━━━━━━━━━━━━━━━━━━━\u001b[0m\u001b[37m\u001b[0m \u001b[1m6s\u001b[0m 8ms/step\n",
            "Accuracy: 0.5403\n",
            "F1-Score: 0.5239\n",
            "Precision: 0.5308\n",
            "Recall: 0.5403\n",
            "              precision    recall  f1-score   support\n",
            "\n",
            "           0       0.58      0.76      0.65      4841\n",
            "           1       0.49      0.37      0.42      4738\n",
            "           2       0.49      0.43      0.46      4769\n",
            "           3       0.52      0.34      0.41      4808\n",
            "           4       0.57      0.79      0.67      4844\n",
            "\n",
            "    accuracy                           0.54     24000\n",
            "   macro avg       0.53      0.54      0.52     24000\n",
            "weighted avg       0.53      0.54      0.52     24000\n",
            "\n"
          ]
        }
      ]
    }
  ]
}